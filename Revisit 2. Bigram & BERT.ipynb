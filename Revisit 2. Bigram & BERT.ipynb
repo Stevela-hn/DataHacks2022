{
  "cells": [
    {
      "cell_type": "code",
      "execution_count": 1,
      "id": "d6c68eaa",
      "metadata": {
        "canvas": {
          "comments": [],
          "componentType": "CodeCell",
          "copiedOriginId": null,
          "diskcache": false,
          "headerColor": "none",
          "id": "264b3b2f-d294-4829-94f7-8376f277f5a9",
          "isComponent": false,
          "name": "",
          "parents": []
        },
        "tags": [],
        "id": "d6c68eaa"
      },
      "outputs": [],
      "source": [
        "import pandas as pd\n",
        "import numpy as np\n",
        "\n",
        "import re\n",
        "import string\n",
        "from matplotlib import pyplot as plt\n",
        "from sklearn.preprocessing import LabelEncoder\n",
        "import tensorflow as tf\n",
        "from tensorflow import keras\n",
        "from tensorflow.keras import layers\n",
        "from tensorflow.keras import losses\n",
        "from tensorflow.keras.layers.experimental.preprocessing import TextVectorization\n",
        "from tensorflow.keras.layers.experimental.preprocessing import StringLookup"
      ]
    },
    {
      "cell_type": "code",
      "source": [
        "from google.colab import drive\n",
        "drive.mount('/content/drive')"
      ],
      "metadata": {
        "colab": {
          "base_uri": "https://localhost:8080/"
        },
        "id": "vZx1CuKq3Q2i",
        "outputId": "cd1d2839-4498-4494-8a97-ec4aed1579b9"
      },
      "id": "vZx1CuKq3Q2i",
      "execution_count": 2,
      "outputs": [
        {
          "output_type": "stream",
          "name": "stdout",
          "text": [
            "Drive already mounted at /content/drive; to attempt to forcibly remount, call drive.mount(\"/content/drive\", force_remount=True).\n"
          ]
        }
      ]
    },
    {
      "cell_type": "code",
      "source": [
        "articles = pd.read_csv(\"/content/drive/MyDrive/Colab Notebooks/advanced_trainset.csv\")"
      ],
      "metadata": {
        "id": "TnuVFtf63W9a"
      },
      "id": "TnuVFtf63W9a",
      "execution_count": 3,
      "outputs": []
    },
    {
      "cell_type": "code",
      "execution_count": 4,
      "id": "c712f5ad",
      "metadata": {
        "canvas": {
          "comments": [],
          "componentType": "CodeCell",
          "copiedOriginId": null,
          "diskcache": false,
          "headerColor": "none",
          "id": "00408fef-d5fc-4012-bb5e-5118ebd1a575",
          "isComponent": false,
          "name": "",
          "parents": []
        },
        "colab": {
          "base_uri": "https://localhost:8080/",
          "height": 206
        },
        "id": "c712f5ad",
        "outputId": "e0b6d0c0-8d27-448d-9092-761c3286f789"
      },
      "outputs": [
        {
          "output_type": "execute_result",
          "data": {
            "text/plain": [
              "                                            Sentence Sentiment\n",
              "0  According to the Finnish-Russian Chamber of Co...   neutral\n",
              "1  The Swedish buyout firm has sold its remaining...   neutral\n",
              "2    $SPY wouldn't be surprised to see a green close  positive\n",
              "3  Shell's $70 Billion BG Deal Meets Shareholder ...  negative\n",
              "4  SSH COMMUNICATIONS SECURITY CORP STOCK EXCHANG...  negative"
            ],
            "text/html": [
              "\n",
              "  <div id=\"df-bd61a493-f96c-4052-aa28-505bcae86597\">\n",
              "    <div class=\"colab-df-container\">\n",
              "      <div>\n",
              "<style scoped>\n",
              "    .dataframe tbody tr th:only-of-type {\n",
              "        vertical-align: middle;\n",
              "    }\n",
              "\n",
              "    .dataframe tbody tr th {\n",
              "        vertical-align: top;\n",
              "    }\n",
              "\n",
              "    .dataframe thead th {\n",
              "        text-align: right;\n",
              "    }\n",
              "</style>\n",
              "<table border=\"1\" class=\"dataframe\">\n",
              "  <thead>\n",
              "    <tr style=\"text-align: right;\">\n",
              "      <th></th>\n",
              "      <th>Sentence</th>\n",
              "      <th>Sentiment</th>\n",
              "    </tr>\n",
              "  </thead>\n",
              "  <tbody>\n",
              "    <tr>\n",
              "      <th>0</th>\n",
              "      <td>According to the Finnish-Russian Chamber of Co...</td>\n",
              "      <td>neutral</td>\n",
              "    </tr>\n",
              "    <tr>\n",
              "      <th>1</th>\n",
              "      <td>The Swedish buyout firm has sold its remaining...</td>\n",
              "      <td>neutral</td>\n",
              "    </tr>\n",
              "    <tr>\n",
              "      <th>2</th>\n",
              "      <td>$SPY wouldn't be surprised to see a green close</td>\n",
              "      <td>positive</td>\n",
              "    </tr>\n",
              "    <tr>\n",
              "      <th>3</th>\n",
              "      <td>Shell's $70 Billion BG Deal Meets Shareholder ...</td>\n",
              "      <td>negative</td>\n",
              "    </tr>\n",
              "    <tr>\n",
              "      <th>4</th>\n",
              "      <td>SSH COMMUNICATIONS SECURITY CORP STOCK EXCHANG...</td>\n",
              "      <td>negative</td>\n",
              "    </tr>\n",
              "  </tbody>\n",
              "</table>\n",
              "</div>\n",
              "      <button class=\"colab-df-convert\" onclick=\"convertToInteractive('df-bd61a493-f96c-4052-aa28-505bcae86597')\"\n",
              "              title=\"Convert this dataframe to an interactive table.\"\n",
              "              style=\"display:none;\">\n",
              "        \n",
              "  <svg xmlns=\"http://www.w3.org/2000/svg\" height=\"24px\"viewBox=\"0 0 24 24\"\n",
              "       width=\"24px\">\n",
              "    <path d=\"M0 0h24v24H0V0z\" fill=\"none\"/>\n",
              "    <path d=\"M18.56 5.44l.94 2.06.94-2.06 2.06-.94-2.06-.94-.94-2.06-.94 2.06-2.06.94zm-11 1L8.5 8.5l.94-2.06 2.06-.94-2.06-.94L8.5 2.5l-.94 2.06-2.06.94zm10 10l.94 2.06.94-2.06 2.06-.94-2.06-.94-.94-2.06-.94 2.06-2.06.94z\"/><path d=\"M17.41 7.96l-1.37-1.37c-.4-.4-.92-.59-1.43-.59-.52 0-1.04.2-1.43.59L10.3 9.45l-7.72 7.72c-.78.78-.78 2.05 0 2.83L4 21.41c.39.39.9.59 1.41.59.51 0 1.02-.2 1.41-.59l7.78-7.78 2.81-2.81c.8-.78.8-2.07 0-2.86zM5.41 20L4 18.59l7.72-7.72 1.47 1.35L5.41 20z\"/>\n",
              "  </svg>\n",
              "      </button>\n",
              "      \n",
              "  <style>\n",
              "    .colab-df-container {\n",
              "      display:flex;\n",
              "      flex-wrap:wrap;\n",
              "      gap: 12px;\n",
              "    }\n",
              "\n",
              "    .colab-df-convert {\n",
              "      background-color: #E8F0FE;\n",
              "      border: none;\n",
              "      border-radius: 50%;\n",
              "      cursor: pointer;\n",
              "      display: none;\n",
              "      fill: #1967D2;\n",
              "      height: 32px;\n",
              "      padding: 0 0 0 0;\n",
              "      width: 32px;\n",
              "    }\n",
              "\n",
              "    .colab-df-convert:hover {\n",
              "      background-color: #E2EBFA;\n",
              "      box-shadow: 0px 1px 2px rgba(60, 64, 67, 0.3), 0px 1px 3px 1px rgba(60, 64, 67, 0.15);\n",
              "      fill: #174EA6;\n",
              "    }\n",
              "\n",
              "    [theme=dark] .colab-df-convert {\n",
              "      background-color: #3B4455;\n",
              "      fill: #D2E3FC;\n",
              "    }\n",
              "\n",
              "    [theme=dark] .colab-df-convert:hover {\n",
              "      background-color: #434B5C;\n",
              "      box-shadow: 0px 1px 3px 1px rgba(0, 0, 0, 0.15);\n",
              "      filter: drop-shadow(0px 1px 2px rgba(0, 0, 0, 0.3));\n",
              "      fill: #FFFFFF;\n",
              "    }\n",
              "  </style>\n",
              "\n",
              "      <script>\n",
              "        const buttonEl =\n",
              "          document.querySelector('#df-bd61a493-f96c-4052-aa28-505bcae86597 button.colab-df-convert');\n",
              "        buttonEl.style.display =\n",
              "          google.colab.kernel.accessAllowed ? 'block' : 'none';\n",
              "\n",
              "        async function convertToInteractive(key) {\n",
              "          const element = document.querySelector('#df-bd61a493-f96c-4052-aa28-505bcae86597');\n",
              "          const dataTable =\n",
              "            await google.colab.kernel.invokeFunction('convertToInteractive',\n",
              "                                                     [key], {});\n",
              "          if (!dataTable) return;\n",
              "\n",
              "          const docLinkHtml = 'Like what you see? Visit the ' +\n",
              "            '<a target=\"_blank\" href=https://colab.research.google.com/notebooks/data_table.ipynb>data table notebook</a>'\n",
              "            + ' to learn more about interactive tables.';\n",
              "          element.innerHTML = '';\n",
              "          dataTable['output_type'] = 'display_data';\n",
              "          await google.colab.output.renderOutput(dataTable, element);\n",
              "          const docLink = document.createElement('div');\n",
              "          docLink.innerHTML = docLinkHtml;\n",
              "          element.appendChild(docLink);\n",
              "        }\n",
              "      </script>\n",
              "    </div>\n",
              "  </div>\n",
              "  "
            ]
          },
          "metadata": {},
          "execution_count": 4
        }
      ],
      "source": [
        "articles.head()"
      ]
    },
    {
      "cell_type": "code",
      "execution_count": 5,
      "id": "f67fc18e-e926-435d-bdd2-5e624f951333",
      "metadata": {
        "canvas": {
          "comments": [],
          "componentType": "CodeCell",
          "copiedOriginId": null,
          "diskcache": false,
          "headerColor": "inherit",
          "id": "5b7667df-b5b0-45ea-a043-4d89380d46b9",
          "isComponent": false,
          "name": "",
          "parents": []
        },
        "colab": {
          "base_uri": "https://localhost:8080/"
        },
        "id": "f67fc18e-e926-435d-bdd2-5e624f951333",
        "outputId": "d9617360-7433-4188-bcdf-2ad887628bcd"
      },
      "outputs": [
        {
          "output_type": "execute_result",
          "data": {
            "text/plain": [
              "208.06973972216807"
            ]
          },
          "metadata": {},
          "execution_count": 5
        }
      ],
      "source": [
        "articles.shape[0] / articles.Sentence.apply(lambda x: len(x.split())).mean()"
      ]
    },
    {
      "cell_type": "markdown",
      "id": "ab82b12e-2be3-4356-858d-0def2d094042",
      "metadata": {
        "canvas": {
          "comments": [],
          "componentType": "CodeCell",
          "copiedOriginId": null,
          "diskcache": false,
          "headerColor": "inherit",
          "id": "0dc5e62d-c038-4d04-8d7a-c0f9a0aa9a85",
          "isComponent": false,
          "name": "",
          "parents": []
        },
        "id": "ab82b12e-2be3-4356-858d-0def2d094042"
      },
      "source": [
        "A simple heuristic for selecting a text-classification model: the ratio between the number of training samples and the mean number of words \n",
        "per sample: \n",
        "- <1500: Bag-of-bigrams\n",
        "- \\>1500: Sequence models\n",
        "\n",
        "We will implement both."
      ]
    },
    {
      "cell_type": "markdown",
      "id": "d33ff313-7662-4c38-b144-24fd2e6dae3f",
      "metadata": {
        "canvas": {
          "comments": [],
          "componentType": "CodeCell",
          "copiedOriginId": null,
          "diskcache": false,
          "headerColor": "inherit",
          "id": "01ab299d-634b-41dc-8c05-6fb4bf5e7b11",
          "isComponent": false,
          "name": "",
          "parents": []
        },
        "id": "d33ff313-7662-4c38-b144-24fd2e6dae3f"
      },
      "source": [
        "# Data Preparation and EDA"
      ]
    },
    {
      "cell_type": "code",
      "execution_count": 6,
      "id": "8ec254ff",
      "metadata": {
        "canvas": {
          "comments": [],
          "componentType": "CodeCell",
          "copiedOriginId": null,
          "diskcache": false,
          "headerColor": "none",
          "id": "73b1160d-0991-46aa-be68-6920a29dd544",
          "isComponent": false,
          "name": "",
          "parents": []
        },
        "id": "8ec254ff"
      },
      "outputs": [],
      "source": [
        "le = LabelEncoder()\n",
        "articles[\"Sentiment\"] = le.fit_transform(articles[\"Sentiment\"])"
      ]
    },
    {
      "cell_type": "code",
      "execution_count": 7,
      "id": "a641c55d-c786-4634-b712-dc0bee4b5699",
      "metadata": {
        "canvas": {
          "comments": [],
          "componentType": "CodeCell",
          "copiedOriginId": null,
          "diskcache": false,
          "headerColor": "inherit",
          "id": "f0bebadd-bf93-460c-9c16-5b4f8f152d38",
          "isComponent": false,
          "name": "",
          "parents": []
        },
        "colab": {
          "base_uri": "https://localhost:8080/",
          "height": 206
        },
        "id": "a641c55d-c786-4634-b712-dc0bee4b5699",
        "outputId": "11a5e7c6-67db-4afb-d6c0-3e2ab816b713"
      },
      "outputs": [
        {
          "output_type": "execute_result",
          "data": {
            "text/plain": [
              "                                            Sentence  Sentiment\n",
              "0  According to the Finnish-Russian Chamber of Co...          1\n",
              "1  The Swedish buyout firm has sold its remaining...          1\n",
              "2    $SPY wouldn't be surprised to see a green close          2\n",
              "3  Shell's $70 Billion BG Deal Meets Shareholder ...          0\n",
              "4  SSH COMMUNICATIONS SECURITY CORP STOCK EXCHANG...          0"
            ],
            "text/html": [
              "\n",
              "  <div id=\"df-485aefaf-9265-4142-ad3c-73dc7c9f8bce\">\n",
              "    <div class=\"colab-df-container\">\n",
              "      <div>\n",
              "<style scoped>\n",
              "    .dataframe tbody tr th:only-of-type {\n",
              "        vertical-align: middle;\n",
              "    }\n",
              "\n",
              "    .dataframe tbody tr th {\n",
              "        vertical-align: top;\n",
              "    }\n",
              "\n",
              "    .dataframe thead th {\n",
              "        text-align: right;\n",
              "    }\n",
              "</style>\n",
              "<table border=\"1\" class=\"dataframe\">\n",
              "  <thead>\n",
              "    <tr style=\"text-align: right;\">\n",
              "      <th></th>\n",
              "      <th>Sentence</th>\n",
              "      <th>Sentiment</th>\n",
              "    </tr>\n",
              "  </thead>\n",
              "  <tbody>\n",
              "    <tr>\n",
              "      <th>0</th>\n",
              "      <td>According to the Finnish-Russian Chamber of Co...</td>\n",
              "      <td>1</td>\n",
              "    </tr>\n",
              "    <tr>\n",
              "      <th>1</th>\n",
              "      <td>The Swedish buyout firm has sold its remaining...</td>\n",
              "      <td>1</td>\n",
              "    </tr>\n",
              "    <tr>\n",
              "      <th>2</th>\n",
              "      <td>$SPY wouldn't be surprised to see a green close</td>\n",
              "      <td>2</td>\n",
              "    </tr>\n",
              "    <tr>\n",
              "      <th>3</th>\n",
              "      <td>Shell's $70 Billion BG Deal Meets Shareholder ...</td>\n",
              "      <td>0</td>\n",
              "    </tr>\n",
              "    <tr>\n",
              "      <th>4</th>\n",
              "      <td>SSH COMMUNICATIONS SECURITY CORP STOCK EXCHANG...</td>\n",
              "      <td>0</td>\n",
              "    </tr>\n",
              "  </tbody>\n",
              "</table>\n",
              "</div>\n",
              "      <button class=\"colab-df-convert\" onclick=\"convertToInteractive('df-485aefaf-9265-4142-ad3c-73dc7c9f8bce')\"\n",
              "              title=\"Convert this dataframe to an interactive table.\"\n",
              "              style=\"display:none;\">\n",
              "        \n",
              "  <svg xmlns=\"http://www.w3.org/2000/svg\" height=\"24px\"viewBox=\"0 0 24 24\"\n",
              "       width=\"24px\">\n",
              "    <path d=\"M0 0h24v24H0V0z\" fill=\"none\"/>\n",
              "    <path d=\"M18.56 5.44l.94 2.06.94-2.06 2.06-.94-2.06-.94-.94-2.06-.94 2.06-2.06.94zm-11 1L8.5 8.5l.94-2.06 2.06-.94-2.06-.94L8.5 2.5l-.94 2.06-2.06.94zm10 10l.94 2.06.94-2.06 2.06-.94-2.06-.94-.94-2.06-.94 2.06-2.06.94z\"/><path d=\"M17.41 7.96l-1.37-1.37c-.4-.4-.92-.59-1.43-.59-.52 0-1.04.2-1.43.59L10.3 9.45l-7.72 7.72c-.78.78-.78 2.05 0 2.83L4 21.41c.39.39.9.59 1.41.59.51 0 1.02-.2 1.41-.59l7.78-7.78 2.81-2.81c.8-.78.8-2.07 0-2.86zM5.41 20L4 18.59l7.72-7.72 1.47 1.35L5.41 20z\"/>\n",
              "  </svg>\n",
              "      </button>\n",
              "      \n",
              "  <style>\n",
              "    .colab-df-container {\n",
              "      display:flex;\n",
              "      flex-wrap:wrap;\n",
              "      gap: 12px;\n",
              "    }\n",
              "\n",
              "    .colab-df-convert {\n",
              "      background-color: #E8F0FE;\n",
              "      border: none;\n",
              "      border-radius: 50%;\n",
              "      cursor: pointer;\n",
              "      display: none;\n",
              "      fill: #1967D2;\n",
              "      height: 32px;\n",
              "      padding: 0 0 0 0;\n",
              "      width: 32px;\n",
              "    }\n",
              "\n",
              "    .colab-df-convert:hover {\n",
              "      background-color: #E2EBFA;\n",
              "      box-shadow: 0px 1px 2px rgba(60, 64, 67, 0.3), 0px 1px 3px 1px rgba(60, 64, 67, 0.15);\n",
              "      fill: #174EA6;\n",
              "    }\n",
              "\n",
              "    [theme=dark] .colab-df-convert {\n",
              "      background-color: #3B4455;\n",
              "      fill: #D2E3FC;\n",
              "    }\n",
              "\n",
              "    [theme=dark] .colab-df-convert:hover {\n",
              "      background-color: #434B5C;\n",
              "      box-shadow: 0px 1px 3px 1px rgba(0, 0, 0, 0.15);\n",
              "      filter: drop-shadow(0px 1px 2px rgba(0, 0, 0, 0.3));\n",
              "      fill: #FFFFFF;\n",
              "    }\n",
              "  </style>\n",
              "\n",
              "      <script>\n",
              "        const buttonEl =\n",
              "          document.querySelector('#df-485aefaf-9265-4142-ad3c-73dc7c9f8bce button.colab-df-convert');\n",
              "        buttonEl.style.display =\n",
              "          google.colab.kernel.accessAllowed ? 'block' : 'none';\n",
              "\n",
              "        async function convertToInteractive(key) {\n",
              "          const element = document.querySelector('#df-485aefaf-9265-4142-ad3c-73dc7c9f8bce');\n",
              "          const dataTable =\n",
              "            await google.colab.kernel.invokeFunction('convertToInteractive',\n",
              "                                                     [key], {});\n",
              "          if (!dataTable) return;\n",
              "\n",
              "          const docLinkHtml = 'Like what you see? Visit the ' +\n",
              "            '<a target=\"_blank\" href=https://colab.research.google.com/notebooks/data_table.ipynb>data table notebook</a>'\n",
              "            + ' to learn more about interactive tables.';\n",
              "          element.innerHTML = '';\n",
              "          dataTable['output_type'] = 'display_data';\n",
              "          await google.colab.output.renderOutput(dataTable, element);\n",
              "          const docLink = document.createElement('div');\n",
              "          docLink.innerHTML = docLinkHtml;\n",
              "          element.appendChild(docLink);\n",
              "        }\n",
              "      </script>\n",
              "    </div>\n",
              "  </div>\n",
              "  "
            ]
          },
          "metadata": {},
          "execution_count": 7
        }
      ],
      "source": [
        "articles.head()"
      ]
    },
    {
      "cell_type": "code",
      "execution_count": 8,
      "id": "239ba537-6041-479f-a0a4-bb29e5fabb90",
      "metadata": {
        "canvas": {
          "comments": [],
          "componentType": "CodeCell",
          "copiedOriginId": null,
          "diskcache": false,
          "headerColor": "inherit",
          "id": "fa1f24e2-b934-4534-9aa5-14981c385843",
          "isComponent": false,
          "name": "",
          "parents": []
        },
        "colab": {
          "base_uri": "https://localhost:8080/"
        },
        "id": "239ba537-6041-479f-a0a4-bb29e5fabb90",
        "outputId": "0ebbbc62-9d83-42b8-adf3-fd15d1302a1f"
      },
      "outputs": [
        {
          "output_type": "execute_result",
          "data": {
            "text/plain": [
              "{0: 'negative', 1: 'neutral', 2: 'positive'}"
            ]
          },
          "metadata": {},
          "execution_count": 8
        }
      ],
      "source": [
        "dict(zip(range(3), le.classes_))"
      ]
    },
    {
      "cell_type": "code",
      "execution_count": 9,
      "id": "38da7f6c-46a5-44ab-ad68-3833dc6f1df3",
      "metadata": {
        "canvas": {
          "comments": [],
          "componentType": "CodeCell",
          "copiedOriginId": "cda3ade6-5aa3-4758-8cd4-fa571ce4af42",
          "diskcache": false,
          "headerColor": "inherit",
          "id": "da369db7-3725-44fd-b989-2b27a111e8ec",
          "isComponent": false,
          "name": "",
          "parents": []
        },
        "colab": {
          "base_uri": "https://localhost:8080/",
          "height": 283
        },
        "id": "38da7f6c-46a5-44ab-ad68-3833dc6f1df3",
        "outputId": "d77c1aeb-a8f7-47af-a31c-67fba1fc5fc6"
      },
      "outputs": [
        {
          "output_type": "execute_result",
          "data": {
            "text/plain": [
              "<BarContainer object of 3 artists>"
            ]
          },
          "metadata": {},
          "execution_count": 9
        },
        {
          "output_type": "display_data",
          "data": {
            "text/plain": [
              "<Figure size 432x288 with 1 Axes>"
            ],
            "image/png": "[encoded data removed]"
          },
          "metadata": {
            "needs_background": "light"
          }
        }
      ],
      "source": [
        "plt.bar(articles.Sentiment.value_counts().keys(), articles.Sentiment.value_counts() / sum(articles.Sentiment.value_counts()))"
      ]
    },
    {
      "cell_type": "markdown",
      "id": "ba13e69e-fd3f-46ce-a77e-ff52640e625b",
      "metadata": {
        "canvas": {
          "comments": [],
          "componentType": "CodeCell",
          "copiedOriginId": "2ee3de52-19a2-4490-a7aa-f4389c7ffbd5",
          "diskcache": false,
          "headerColor": "inherit",
          "id": "c5c92fde-61e9-4911-8cf7-7ced5c39bd4a",
          "isComponent": false,
          "name": "",
          "parents": []
        },
        "id": "ba13e69e-fd3f-46ce-a77e-ff52640e625b"
      },
      "source": [
        "From the above plot, we can have a benchmark metric: if we just predict every sentence as 1, \"neutral\", regardless of its content, we would reach an accuracy around 55%. Therefore, our model has to beat this benchmark on validation set in order for us to use it for future inference."
      ]
    },
    {
      "cell_type": "code",
      "execution_count": 10,
      "id": "ecf4618c",
      "metadata": {
        "canvas": {
          "comments": [],
          "componentType": "CodeCell",
          "copiedOriginId": "d41623ea-7d78-4647-95a0-d0fd3aec8e36",
          "diskcache": false,
          "headerColor": "none",
          "id": "5aa22cf4-109c-4adb-874b-2ac060b9088a",
          "isComponent": false,
          "name": "",
          "parents": []
        },
        "id": "ecf4618c"
      },
      "outputs": [],
      "source": [
        "data = tf.data.Dataset.from_tensor_slices((articles[\"Sentence\"], articles[\"Sentiment\"]))\n",
        "data = data.batch(8)\n",
        "data = data.shuffle(buffer_size = len(data), seed=1997)"
      ]
    },
    {
      "cell_type": "code",
      "execution_count": 11,
      "id": "7dbc5745",
      "metadata": {
        "canvas": {
          "comments": [],
          "componentType": "CodeCell",
          "copiedOriginId": "ed1367dd-3a71-44ad-8f7f-880dea37f742",
          "diskcache": false,
          "headerColor": "none",
          "id": "a32cb8ad-0d5c-4463-9235-31ef6371803e",
          "isComponent": false,
          "name": "",
          "parents": []
        },
        "id": "7dbc5745"
      },
      "outputs": [],
      "source": [
        "train_size = int(0.7*len(data))\n",
        "val_size   = int(0.1*len(data))\n",
        "\n",
        "train = data.take(train_size)\n",
        "val   = data.skip(train_size).take(val_size)\n",
        "test  = data.skip(train_size + val_size)"
      ]
    },
    {
      "cell_type": "markdown",
      "id": "b689be7f-6d55-4be0-a650-c2a55f49dec9",
      "metadata": {
        "canvas": {
          "comments": [],
          "componentType": "CodeCell",
          "copiedOriginId": "ce52ce47-1ca2-48a9-80ec-f289db8106f9",
          "diskcache": false,
          "headerColor": "inherit",
          "id": "fdac5b02-2a67-4558-920b-2c7ce375295d",
          "isComponent": false,
          "name": "",
          "parents": []
        },
        "tags": [],
        "id": "b689be7f-6d55-4be0-a650-c2a55f49dec9"
      },
      "source": [
        "# Bag-of-Bigrams\n",
        "\n",
        "Bag of Bigrams is a set model: it looks at keywords only, but not order between words"
      ]
    },
    {
      "cell_type": "code",
      "execution_count": 12,
      "id": "25de2e91-ad1e-4731-9bd1-2534868c6116",
      "metadata": {
        "canvas": {
          "comments": [],
          "componentType": "CodeCell",
          "copiedOriginId": "c8a5e35a-5824-4b18-b370-3ba5736cd518",
          "diskcache": false,
          "headerColor": "inherit",
          "id": "4d00c5b6-d82d-4ed0-af8b-efb892713f2e",
          "isComponent": false,
          "name": "",
          "parents": []
        },
        "id": "25de2e91-ad1e-4731-9bd1-2534868c6116"
      },
      "outputs": [],
      "source": [
        "from tensorflow.keras.layers import TextVectorization\n",
        "text_vectorization = TextVectorization(\n",
        "    ngrams=2,\n",
        "    max_tokens=10000,\n",
        "    output_mode=\"multi_hot\")"
      ]
    },
    {
      "cell_type": "code",
      "execution_count": 13,
      "id": "f1b9fd9d-fd7f-4017-a2fb-37fcc458d094",
      "metadata": {
        "canvas": {
          "comments": [],
          "componentType": "CodeCell",
          "copiedOriginId": "6ee0b171-4280-456c-8975-025eea56e70a",
          "diskcache": false,
          "headerColor": "inherit",
          "id": "bab02c0d-dbc2-449f-b695-9f89716350e7",
          "isComponent": false,
          "name": "",
          "parents": []
        },
        "id": "f1b9fd9d-fd7f-4017-a2fb-37fcc458d094"
      },
      "outputs": [],
      "source": [
        "text_vectorization.adapt(articles[\"Sentence\"])"
      ]
    },
    {
      "cell_type": "code",
      "execution_count": 14,
      "id": "5f0267c3-7111-4944-82e5-8c52bf908813",
      "metadata": {
        "canvas": {
          "comments": [],
          "componentType": "CodeCell",
          "copiedOriginId": null,
          "diskcache": false,
          "headerColor": "inherit",
          "id": "5c1c3331-304b-42c8-a8c2-1efaf28165d7",
          "isComponent": false,
          "name": "",
          "parents": []
        },
        "id": "5f0267c3-7111-4944-82e5-8c52bf908813"
      },
      "outputs": [],
      "source": [
        "binary_2gram_train_ds = train.map( \n",
        "    lambda x, y: (text_vectorization(x), y), \n",
        "    num_parallel_calls=4) \n",
        "binary_2gram_val_ds = val.map( \n",
        "    lambda x, y: (text_vectorization(x), y), \n",
        "    num_parallel_calls=4) \n",
        "binary_2gram_test_ds = test.map( \n",
        "    lambda x, y: (text_vectorization(x), y), \n",
        "    num_parallel_calls=4) "
      ]
    },
    {
      "cell_type": "code",
      "execution_count": 15,
      "id": "f6b87224-f8c2-4dc9-bad9-2963b43ea17c",
      "metadata": {
        "canvas": {
          "comments": [],
          "componentType": "CodeCell",
          "copiedOriginId": null,
          "diskcache": false,
          "headerColor": "inherit",
          "id": "7cc553b4-534f-4ba0-a500-90c06d51c332",
          "isComponent": false,
          "name": "",
          "parents": []
        },
        "id": "f6b87224-f8c2-4dc9-bad9-2963b43ea17c"
      },
      "outputs": [],
      "source": [
        "def get_model(max_tokens=10000, hidden_dim=16):\n",
        "    inputs = keras.Input(shape=(max_tokens,))\n",
        "    x = layers.Dense(hidden_dim, activation=\"relu\")(inputs)\n",
        "    x = layers.Dropout(0.3)(x)\n",
        "    outputs = layers.Dense(3)(x)\n",
        "    model = keras.Model(inputs, outputs)\n",
        "    model.compile(optimizer=\"rmsprop\",\n",
        "    loss=losses.SparseCategoricalCrossentropy(from_logits=True),\n",
        "    metrics=[\"accuracy\"])\n",
        "    return model"
      ]
    },
    {
      "cell_type": "code",
      "execution_count": 16,
      "id": "0ba360fd-48bd-48fd-9b01-6e1d78aad9a0",
      "metadata": {
        "canvas": {
          "comments": [],
          "componentType": "CodeCell",
          "copiedOriginId": null,
          "diskcache": false,
          "headerColor": "inherit",
          "id": "15c86860-448f-46bb-a288-c7f64099ba8d",
          "isComponent": false,
          "name": "",
          "parents": []
        },
        "colab": {
          "base_uri": "https://localhost:8080/"
        },
        "id": "0ba360fd-48bd-48fd-9b01-6e1d78aad9a0",
        "outputId": "5add4b9b-dd0a-4b88-e0f3-64e883f6d911"
      },
      "outputs": [
        {
          "output_type": "stream",
          "name": "stdout",
          "text": [
            "Model: \"model\"\n",
            "_________________________________________________________________\n",
            " Layer (type)                Output Shape              Param #   \n",
            "=================================================================\n",
            " input_1 (InputLayer)        [(None, 10000)]           0         \n",
            "                                                                 \n",
            " dense (Dense)               (None, 16)                160016    \n",
            "                                                                 \n",
            " dropout (Dropout)           (None, 16)                0         \n",
            "                                                                 \n",
            " dense_1 (Dense)             (None, 3)                 51        \n",
            "                                                                 \n",
            "=================================================================\n",
            "Total params: 160,067\n",
            "Trainable params: 160,067\n",
            "Non-trainable params: 0\n",
            "_________________________________________________________________\n"
          ]
        }
      ],
      "source": [
        "model = get_model()\n",
        "model.summary()"
      ]
    },
    {
      "cell_type": "code",
      "execution_count": 17,
      "id": "1f5f3995-e999-4535-9996-7cc0a4bf83e4",
      "metadata": {
        "canvas": {
          "comments": [],
          "componentType": "CodeCell",
          "copiedOriginId": null,
          "diskcache": false,
          "headerColor": "inherit",
          "id": "22e3cc77-eb7a-423c-a0c2-78b63de9d95d",
          "isComponent": false,
          "name": "",
          "parents": []
        },
        "colab": {
          "base_uri": "https://localhost:8080/"
        },
        "id": "1f5f3995-e999-4535-9996-7cc0a4bf83e4",
        "outputId": "3c0dbec3-06ea-449f-fcde-f625db521327"
      },
      "outputs": [
        {
          "output_type": "stream",
          "name": "stdout",
          "text": [
            "(8, 10000)\n",
            "(8,)\n",
            "tf.Tensor([1 1 1 1 0 1 0 2], shape=(8,), dtype=int64)\n"
          ]
        }
      ],
      "source": [
        "for d, t in binary_2gram_train_ds:\n",
        "    print(d.shape)\n",
        "    print(t.shape)\n",
        "    print(t)\n",
        "    break"
      ]
    },
    {
      "cell_type": "code",
      "execution_count": 18,
      "id": "9015f697-c1b4-4542-b3fb-bde3f70ec867",
      "metadata": {
        "canvas": {
          "comments": [],
          "componentType": "CodeCell",
          "copiedOriginId": "15c86860-448f-46bb-a288-c7f64099ba8d",
          "diskcache": false,
          "headerColor": "inherit",
          "id": "4be8efb4-af41-4447-bf18-dc518c37be1c",
          "isComponent": false,
          "name": "",
          "parents": []
        },
        "colab": {
          "base_uri": "https://localhost:8080/"
        },
        "id": "9015f697-c1b4-4542-b3fb-bde3f70ec867",
        "outputId": "fd84f829-ef51-409a-c2cf-f4b0be4c0be1"
      },
      "outputs": [
        {
          "output_type": "stream",
          "name": "stdout",
          "text": [
            "Epoch 1/20\n",
            "383/383 [==============================] - 2s 4ms/step - loss: 0.9227 - accuracy: 0.5885 - val_loss: 0.8150 - val_accuracy: 0.6690\n",
            "Epoch 2/20\n",
            "383/383 [==============================] - 1s 3ms/step - loss: 0.7585 - accuracy: 0.6969 - val_loss: 0.7017 - val_accuracy: 0.7153\n",
            "Epoch 3/20\n",
            "383/383 [==============================] - 1s 3ms/step - loss: 0.6442 - accuracy: 0.7413 - val_loss: 0.6253 - val_accuracy: 0.7431\n",
            "Epoch 4/20\n",
            "383/383 [==============================] - 1s 3ms/step - loss: 0.5644 - accuracy: 0.7786 - val_loss: 0.5719 - val_accuracy: 0.7685\n",
            "Epoch 5/20\n",
            "383/383 [==============================] - 1s 3ms/step - loss: 0.5139 - accuracy: 0.8024 - val_loss: 0.5298 - val_accuracy: 0.7940\n",
            "Epoch 6/20\n",
            "383/383 [==============================] - 1s 3ms/step - loss: 0.4528 - accuracy: 0.8259 - val_loss: 0.5033 - val_accuracy: 0.8079\n",
            "Epoch 7/20\n",
            "383/383 [==============================] - 1s 3ms/step - loss: 0.4221 - accuracy: 0.8396 - val_loss: 0.4839 - val_accuracy: 0.8218\n",
            "Epoch 8/20\n",
            "383/383 [==============================] - 1s 3ms/step - loss: 0.3866 - accuracy: 0.8579 - val_loss: 0.4670 - val_accuracy: 0.8287\n",
            "Epoch 9/20\n",
            "383/383 [==============================] - 1s 3ms/step - loss: 0.3670 - accuracy: 0.8635 - val_loss: 0.4495 - val_accuracy: 0.8287\n",
            "Epoch 10/20\n",
            "383/383 [==============================] - 1s 3ms/step - loss: 0.3525 - accuracy: 0.8772 - val_loss: 0.4349 - val_accuracy: 0.8333\n",
            "Epoch 11/20\n",
            "383/383 [==============================] - 1s 3ms/step - loss: 0.3343 - accuracy: 0.8749 - val_loss: 0.4319 - val_accuracy: 0.8426\n",
            "Epoch 12/20\n",
            "383/383 [==============================] - 1s 3ms/step - loss: 0.3118 - accuracy: 0.8860 - val_loss: 0.4267 - val_accuracy: 0.8449\n",
            "Epoch 13/20\n",
            "383/383 [==============================] - 1s 3ms/step - loss: 0.3027 - accuracy: 0.8916 - val_loss: 0.4206 - val_accuracy: 0.8472\n",
            "Epoch 14/20\n",
            "383/383 [==============================] - 1s 3ms/step - loss: 0.2876 - accuracy: 0.8994 - val_loss: 0.4151 - val_accuracy: 0.8472\n",
            "Epoch 15/20\n",
            "383/383 [==============================] - 1s 3ms/step - loss: 0.2707 - accuracy: 0.9046 - val_loss: 0.4192 - val_accuracy: 0.8542\n",
            "Epoch 16/20\n",
            "383/383 [==============================] - 1s 3ms/step - loss: 0.2771 - accuracy: 0.9050 - val_loss: 0.4143 - val_accuracy: 0.8449\n",
            "Epoch 17/20\n",
            "383/383 [==============================] - 1s 3ms/step - loss: 0.2656 - accuracy: 0.9069 - val_loss: 0.4095 - val_accuracy: 0.8495\n",
            "Epoch 18/20\n",
            "383/383 [==============================] - 1s 3ms/step - loss: 0.2553 - accuracy: 0.9095 - val_loss: 0.4103 - val_accuracy: 0.8588\n",
            "Epoch 19/20\n",
            "383/383 [==============================] - 1s 3ms/step - loss: 0.2506 - accuracy: 0.9082 - val_loss: 0.4095 - val_accuracy: 0.8542\n",
            "Epoch 20/20\n",
            "383/383 [==============================] - 1s 3ms/step - loss: 0.2398 - accuracy: 0.9148 - val_loss: 0.4016 - val_accuracy: 0.8634\n"
          ]
        },
        {
          "output_type": "execute_result",
          "data": {
            "text/plain": [
              "<keras.callbacks.History at 0x7f49faff4410>"
            ]
          },
          "metadata": {},
          "execution_count": 18
        }
      ],
      "source": [
        "callbacks = [\n",
        "    keras.callbacks.ModelCheckpoint(\"binary_2gram.keras\",\n",
        "    save_best_only=True)\n",
        "]\n",
        "model.fit(binary_2gram_train_ds.cache(), \n",
        "    validation_data=binary_2gram_val_ds.cache(), \n",
        "    epochs=20,\n",
        "    callbacks=callbacks)"
      ]
    },
    {
      "cell_type": "code",
      "execution_count": 19,
      "id": "4a7a40e6-1f7f-42f3-9ee5-7b88cda081e0",
      "metadata": {
        "canvas": {
          "comments": [],
          "componentType": "CodeCell",
          "copiedOriginId": "15c86860-448f-46bb-a288-c7f64099ba8d",
          "diskcache": false,
          "headerColor": "inherit",
          "id": "65ab6eca-4b89-4174-afaa-866547e874c9",
          "isComponent": false,
          "name": "",
          "parents": []
        },
        "colab": {
          "base_uri": "https://localhost:8080/"
        },
        "id": "4a7a40e6-1f7f-42f3-9ee5-7b88cda081e0",
        "outputId": "6224e2bc-6d4b-42ae-b476-2e8bc3504407"
      },
      "outputs": [
        {
          "output_type": "stream",
          "name": "stdout",
          "text": [
            "111/111 [==============================] - 0s 2ms/step - loss: 0.5598 - accuracy: 0.8480\n",
            "Test acc: 0.848\n"
          ]
        }
      ],
      "source": [
        "model = keras.models.load_model(\"binary_2gram.keras\") \n",
        "print(f\"Test acc: {model.evaluate(binary_2gram_test_ds)[1]:.3f}\")"
      ]
    },
    {
      "cell_type": "markdown",
      "id": "f5f1c36d-0af7-4ded-8ad8-5046f7292815",
      "metadata": {
        "canvas": {
          "comments": [],
          "componentType": "CodeCell",
          "copiedOriginId": null,
          "diskcache": false,
          "headerColor": "inherit",
          "id": "09efa6e2-b5e5-40c7-8be1-e685eaf8075f",
          "isComponent": false,
          "name": "",
          "parents": []
        },
        "id": "f5f1c36d-0af7-4ded-8ad8-5046f7292815"
      },
      "source": [
        "# BERT\n",
        "\n",
        "BERT is a sequence model, where it looks at both keywords and their relatively position."
      ]
    },
    {
      "cell_type": "code",
      "execution_count": 20,
      "id": "4106fa53-b9ea-40cb-82c2-e8a28143eb9a",
      "metadata": {
        "canvas": {
          "comments": [],
          "componentType": "CodeCell",
          "copiedOriginId": null,
          "diskcache": false,
          "headerColor": "inherit",
          "id": "ea79763f-1de9-4d93-aff9-d4de7a4a760d",
          "isComponent": false,
          "name": "",
          "parents": []
        },
        "id": "4106fa53-b9ea-40cb-82c2-e8a28143eb9a"
      },
      "outputs": [],
      "source": [
        "import tensorflow as tf\n",
        "import tensorflow_text as text\n",
        "import tensorflow_hub as hub\n",
        "from official.nlp import optimization\n",
        "tf.get_logger().setLevel('ERROR')\n"
      ]
    },
    {
      "cell_type": "code",
      "execution_count": 21,
      "id": "b4faa6f5-5db8-44bc-9ac4-7ca2f979db09",
      "metadata": {
        "canvas": {
          "comments": [],
          "componentType": "CodeCell",
          "copiedOriginId": null,
          "diskcache": false,
          "headerColor": "inherit",
          "id": "c2f3bf5a-3caf-4de1-8b53-cf12707e4827",
          "isComponent": false,
          "name": "",
          "parents": []
        },
        "tags": [],
        "colab": {
          "base_uri": "https://localhost:8080/"
        },
        "id": "b4faa6f5-5db8-44bc-9ac4-7ca2f979db09",
        "outputId": "d5e36f5f-8fa8-475e-bdd5-57eb52cf84b6"
      },
      "outputs": [
        {
          "output_type": "stream",
          "name": "stdout",
          "text": [
            "BERT model selected           : https://tfhub.dev/tensorflow/small_bert/bert_en_uncased_L-4_H-512_A-8/1\n",
            "Preprocess model auto-selected: https://tfhub.dev/tensorflow/bert_en_uncased_preprocess/3\n"
          ]
        }
      ],
      "source": [
        "bert_model_name = 'small_bert/bert_en_uncased_L-4_H-512_A-8' \n",
        "\n",
        "map_name_to_handle = {\n",
        "    'small_bert/bert_en_uncased_L-4_H-512_A-8':\n",
        "        'https://tfhub.dev/tensorflow/small_bert/bert_en_uncased_L-4_H-512_A-8/1'\n",
        "}\n",
        "\n",
        "map_model_to_preprocess = {\n",
        "    'small_bert/bert_en_uncased_L-4_H-512_A-8':\n",
        "        'https://tfhub.dev/tensorflow/bert_en_uncased_preprocess/3'\n",
        "}\n",
        "\n",
        "tfhub_handle_encoder = map_name_to_handle[bert_model_name]\n",
        "tfhub_handle_preprocess = map_model_to_preprocess[bert_model_name]\n",
        "\n",
        "print(f'BERT model selected           : {tfhub_handle_encoder}')\n",
        "print(f'Preprocess model auto-selected: {tfhub_handle_preprocess}')\n"
      ]
    },
    {
      "cell_type": "code",
      "execution_count": 22,
      "id": "128e76ac-c1ee-42ea-aa0c-570ba19620a1",
      "metadata": {
        "canvas": {
          "comments": [],
          "componentType": "CodeCell",
          "copiedOriginId": null,
          "diskcache": false,
          "headerColor": "inherit",
          "id": "d8920f9c-eb08-4d99-a553-15b538e80e71",
          "isComponent": false,
          "name": "",
          "parents": []
        },
        "id": "128e76ac-c1ee-42ea-aa0c-570ba19620a1"
      },
      "outputs": [],
      "source": [
        "bert_preprocess_model = hub.KerasLayer(tfhub_handle_preprocess)"
      ]
    },
    {
      "cell_type": "code",
      "execution_count": 23,
      "id": "29d6a9b0-ba25-4531-8304-48cd9b9e32fa",
      "metadata": {
        "canvas": {
          "comments": [],
          "componentType": "CodeCell",
          "copiedOriginId": null,
          "diskcache": false,
          "headerColor": "inherit",
          "id": "2fccd2ef-dc3b-48f1-bf1e-3e53e1aa18e8",
          "isComponent": false,
          "name": "",
          "parents": []
        },
        "colab": {
          "base_uri": "https://localhost:8080/"
        },
        "id": "29d6a9b0-ba25-4531-8304-48cd9b9e32fa",
        "outputId": "142096bb-a88d-4a28-9f7b-91f9b8b9c22a"
      },
      "outputs": [
        {
          "output_type": "stream",
          "name": "stdout",
          "text": [
            "Keys       : ['input_mask', 'input_type_ids', 'input_word_ids']\n",
            "Shape      : (1, 128)\n",
            "Word Ids   : [ 101 2023 2003 2107 2019 6429 3185  999  102    0    0    0]\n",
            "Input Mask : [1 1 1 1 1 1 1 1 1 0 0 0]\n",
            "Type Ids   : [0 0 0 0 0 0 0 0 0 0 0 0]\n"
          ]
        }
      ],
      "source": [
        "text_test = ['this is such an amazing movie!']\n",
        "text_preprocessed = bert_preprocess_model(text_test)\n",
        "\n",
        "print(f'Keys       : {list(text_preprocessed.keys())}')\n",
        "print(f'Shape      : {text_preprocessed[\"input_word_ids\"].shape}')\n",
        "print(f'Word Ids   : {text_preprocessed[\"input_word_ids\"][0, :12]}')\n",
        "print(f'Input Mask : {text_preprocessed[\"input_mask\"][0, :12]}')\n",
        "print(f'Type Ids   : {text_preprocessed[\"input_type_ids\"][0, :12]}')\n"
      ]
    },
    {
      "cell_type": "code",
      "execution_count": 24,
      "id": "d2cd26a7-5ac2-4b73-b70b-2ddc73ff6800",
      "metadata": {
        "canvas": {
          "comments": [],
          "componentType": "CodeCell",
          "copiedOriginId": null,
          "diskcache": false,
          "headerColor": "inherit",
          "id": "2fb28a7d-4d3e-44f8-a23a-35ee402ca9a5",
          "isComponent": false,
          "name": "",
          "parents": []
        },
        "id": "d2cd26a7-5ac2-4b73-b70b-2ddc73ff6800"
      },
      "outputs": [],
      "source": [
        "bert_model = hub.KerasLayer(tfhub_handle_encoder)\n"
      ]
    },
    {
      "cell_type": "code",
      "source": [
        "def build_classifier_model():\n",
        "  text_input = tf.keras.layers.Input(shape=(), dtype=tf.string, name='text')\n",
        "  preprocessing_layer = hub.KerasLayer(tfhub_handle_preprocess, name='preprocessing')\n",
        "  encoder_inputs = preprocessing_layer(text_input)\n",
        "  encoder = hub.KerasLayer(tfhub_handle_encoder, trainable=True, name='BERT_encoder')\n",
        "  outputs = encoder(encoder_inputs)\n",
        "  net = outputs['pooled_output']\n",
        "  net = tf.keras.layers.Dropout(0.1)(net)\n",
        "  net = tf.keras.layers.Dense(3, activation=None, name='classifier')(net)\n",
        "  return tf.keras.Model(text_input, net)\n"
      ],
      "metadata": {
        "id": "xOvgZj1E53kN"
      },
      "id": "xOvgZj1E53kN",
      "execution_count": 39,
      "outputs": []
    },
    {
      "cell_type": "code",
      "source": [
        "classifier_model = build_classifier_model()\n"
      ],
      "metadata": {
        "id": "T2J_Ihmp57P2"
      },
      "id": "T2J_Ihmp57P2",
      "execution_count": 40,
      "outputs": []
    },
    {
      "cell_type": "code",
      "source": [
        "classifier_model.summary()"
      ],
      "metadata": {
        "id": "e8jvWWXF_pib",
        "colab": {
          "base_uri": "https://localhost:8080/"
        },
        "outputId": "c67e6eb7-65dd-412f-d17c-48dc6e7978f4"
      },
      "id": "e8jvWWXF_pib",
      "execution_count": 41,
      "outputs": [
        {
          "output_type": "stream",
          "name": "stdout",
          "text": [
            "Model: \"model_3\"\n",
            "__________________________________________________________________________________________________\n",
            " Layer (type)                   Output Shape         Param #     Connected to                     \n",
            "==================================================================================================\n",
            " text (InputLayer)              [(None,)]            0           []                               \n",
            "                                                                                                  \n",
            " preprocessing (KerasLayer)     {'input_word_ids':   0           ['text[0][0]']                   \n",
            "                                (None, 128),                                                      \n",
            "                                 'input_mask': (Non                                               \n",
            "                                e, 128),                                                          \n",
            "                                 'input_type_ids':                                                \n",
            "                                (None, 128)}                                                      \n",
            "                                                                                                  \n",
            " BERT_encoder (KerasLayer)      {'default': (None,   28763649    ['preprocessing[0][0]',          \n",
            "                                512),                             'preprocessing[0][1]',          \n",
            "                                 'sequence_output':               'preprocessing[0][2]']          \n",
            "                                 (None, 128, 512),                                                \n",
            "                                 'encoder_outputs':                                               \n",
            "                                 [(None, 128, 512),                                               \n",
            "                                 (None, 128, 512),                                                \n",
            "                                 (None, 128, 512),                                                \n",
            "                                 (None, 128, 512)],                                               \n",
            "                                 'pooled_output': (                                               \n",
            "                                None, 512)}                                                       \n",
            "                                                                                                  \n",
            " dropout_3 (Dropout)            (None, 512)          0           ['BERT_encoder[0][5]']           \n",
            "                                                                                                  \n",
            " classifier (Dense)             (None, 3)            1539        ['dropout_3[0][0]']              \n",
            "                                                                                                  \n",
            "==================================================================================================\n",
            "Total params: 28,765,188\n",
            "Trainable params: 28,765,187\n",
            "Non-trainable params: 1\n",
            "__________________________________________________________________________________________________\n"
          ]
        }
      ]
    },
    {
      "cell_type": "code",
      "source": [
        "tf.keras.utils.plot_model(classifier_model)\n"
      ],
      "metadata": {
        "colab": {
          "base_uri": "https://localhost:8080/",
          "height": 466
        },
        "id": "8BISBppi58YP",
        "outputId": "31d5245b-0155-40d0-d379-ff54c035731e"
      },
      "id": "8BISBppi58YP",
      "execution_count": 42,
      "outputs": [
        {
          "output_type": "execute_result",
          "data": {
            "image/png": "[encoded data removed]",
            "text/plain": [
              "<IPython.core.display.Image object>"
            ]
          },
          "metadata": {},
          "execution_count": 42
        }
      ]
    },
    {
      "cell_type": "code",
      "source": [
        "loss = losses.SparseCategoricalCrossentropy(from_logits=True)\n",
        "metrics = \"accuracy\"\n",
        "epochs = 5\n",
        "steps_per_epoch = tf.data.experimental.cardinality(train).numpy()\n",
        "num_train_steps = steps_per_epoch * epochs\n",
        "num_warmup_steps = int(0.1*num_train_steps)\n",
        "\n",
        "init_lr = 3e-5\n",
        "optimizer = optimization.create_optimizer(init_lr=init_lr,\n",
        "                                          num_train_steps=num_train_steps,\n",
        "                                          num_warmup_steps=num_warmup_steps,\n",
        "                                          optimizer_type='adamw')\n"
      ],
      "metadata": {
        "id": "bGa65E7W59dh"
      },
      "id": "bGa65E7W59dh",
      "execution_count": 43,
      "outputs": []
    },
    {
      "cell_type": "code",
      "source": [
        "classifier_model.compile(optimizer=optimizer,\n",
        "                         loss=loss,\n",
        "                         metrics=metrics)\n"
      ],
      "metadata": {
        "id": "sjmjo9646RTA"
      },
      "id": "sjmjo9646RTA",
      "execution_count": 44,
      "outputs": []
    },
    {
      "cell_type": "code",
      "source": [
        "history = classifier_model.fit(x=train,\n",
        "                               validation_data=val,\n",
        "                               epochs=epochs)"
      ],
      "metadata": {
        "colab": {
          "base_uri": "https://localhost:8080/"
        },
        "id": "8o9XXlm_6VGq",
        "outputId": "f815412f-609e-41bb-a859-f9299d5bd826"
      },
      "id": "8o9XXlm_6VGq",
      "execution_count": 45,
      "outputs": [
        {
          "output_type": "stream",
          "name": "stdout",
          "text": [
            "Epoch 1/5\n",
            "383/383 [==============================] - 213s 535ms/step - loss: 0.8589 - accuracy: 0.6025 - val_loss: 0.5624 - val_accuracy: 0.7894\n",
            "Epoch 2/5\n",
            "383/383 [==============================] - 206s 537ms/step - loss: 0.5606 - accuracy: 0.7552 - val_loss: 0.3824 - val_accuracy: 0.8403\n",
            "Epoch 3/5\n",
            "383/383 [==============================] - 208s 542ms/step - loss: 0.4182 - accuracy: 0.8191 - val_loss: 0.2839 - val_accuracy: 0.8704\n",
            "Epoch 4/5\n",
            "383/383 [==============================] - 210s 549ms/step - loss: 0.3665 - accuracy: 0.8354 - val_loss: 0.2681 - val_accuracy: 0.8698\n",
            "Epoch 5/5\n",
            "383/383 [==============================] - 212s 553ms/step - loss: 0.3177 - accuracy: 0.8573 - val_loss: 0.2009 - val_accuracy: 0.9028\n"
          ]
        }
      ]
    },
    {
      "cell_type": "code",
      "source": [
        "history_dict = history.history\n",
        "print(history_dict.keys())\n",
        "\n",
        "acc = history_dict['accuracy']\n",
        "val_acc = history_dict['val_accuracy']\n",
        "loss = history_dict['loss']\n",
        "val_loss = history_dict['val_loss']\n",
        "\n",
        "epochs = range(1, len(acc) + 1)\n",
        "fig = plt.figure(figsize=(10, 6))\n",
        "fig.tight_layout()\n",
        "\n",
        "plt.subplot(2, 1, 1)\n",
        "# r is for \"solid red line\"\n",
        "plt.plot(epochs, loss, 'r', label='Training loss')\n",
        "# b is for \"solid blue line\"\n",
        "plt.plot(epochs, val_loss, 'b', label='Validation loss')\n",
        "plt.title('Training and validation loss')\n",
        "# plt.xlabel('Epochs')\n",
        "plt.ylabel('Loss')\n",
        "plt.legend()\n",
        "\n",
        "plt.subplot(2, 1, 2)\n",
        "plt.plot(epochs, acc, 'r', label='Training acc')\n",
        "plt.plot(epochs, val_acc, 'b', label='Validation acc')\n",
        "plt.title('Training and validation accuracy')\n",
        "plt.xlabel('Epochs')\n",
        "plt.ylabel('Accuracy')\n",
        "plt.legend(loc='lower right')\n"
      ],
      "metadata": {
        "id": "p_czM7Ht6cVz",
        "colab": {
          "base_uri": "https://localhost:8080/",
          "height": 439
        },
        "outputId": "1858c8e1-3391-4ccc-df63-33e9941c22c0"
      },
      "id": "p_czM7Ht6cVz",
      "execution_count": 46,
      "outputs": [
        {
          "output_type": "stream",
          "name": "stdout",
          "text": [
            "dict_keys(['loss', 'accuracy', 'val_loss', 'val_accuracy'])\n"
          ]
        },
        {
          "output_type": "execute_result",
          "data": {
            "text/plain": [
              "<matplotlib.legend.Legend at 0x7f49fe56e210>"
            ]
          },
          "metadata": {},
          "execution_count": 46
        },
        {
          "output_type": "display_data",
          "data": {
            "text/plain": [
              "<Figure size 720x432 with 2 Axes>"
            ],
            "image/png": "[encoded data removed]"
          },
          "metadata": {
            "needs_background": "light"
          }
        }
      ]
    },
    {
      "cell_type": "code",
      "source": [
        "loss, accuracy = classifier_model.evaluate(test)\n"
      ],
      "metadata": {
        "id": "l5xPgmaY6XqI",
        "colab": {
          "base_uri": "https://localhost:8080/"
        },
        "outputId": "a17a4f29-c1c5-4165-de9c-fd8796a8a886"
      },
      "id": "l5xPgmaY6XqI",
      "execution_count": 47,
      "outputs": [
        {
          "output_type": "stream",
          "name": "stdout",
          "text": [
            "111/111 [==============================] - 20s 176ms/step - loss: 0.2440 - accuracy: 0.8930\n"
          ]
        }
      ]
    },
    {
      "cell_type": "code",
      "source": [],
      "metadata": {
        "id": "yfaS0VcLNLWQ"
      },
      "id": "yfaS0VcLNLWQ",
      "execution_count": null,
      "outputs": []
    }
  ],
  "metadata": {
    "canvas": {
      "colorPalette": [
        "inherit",
        "inherit",
        "inherit",
        "inherit",
        "inherit",
        "inherit",
        "inherit",
        "inherit",
        "inherit",
        "inherit"
      ],
      "parameters": [],
      "version": "1.0"
    },
    "kernelspec": {
      "display_name": "Python 3 (ipykernel)",
      "language": "python",
      "name": "python3"
    },
    "language_info": {
      "codemirror_mode": {
        "name": "ipython",
        "version": 3
      },
      "file_extension": ".py",
      "mimetype": "text/x-python",
      "name": "python",
      "nbconvert_exporter": "python",
      "pygments_lexer": "ipython3",
      "version": "3.9.12"
    },
    "toc": {
      "base_numbering": 1,
      "nav_menu": {},
      "number_sections": false,
      "sideBar": true,
      "skip_h1_title": false,
      "title_cell": "Table of Contents",
      "title_sidebar": "Contents",
      "toc_cell": false,
      "toc_position": {},
      "toc_section_display": true,
      "toc_window_display": false
    },
    "colab": {
      "provenance": [],
      "machine_shape": "hm"
    },
    "accelerator": "TPU",
    "gpuClass": "standard"
  },
  "nbformat": 4,
  "nbformat_minor": 5
}