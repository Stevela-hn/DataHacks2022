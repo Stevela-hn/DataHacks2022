{
 "cells": [
  {
   "cell_type": "code",
   "execution_count": 1,
   "id": "a7047e50",
   "metadata": {},
   "outputs": [],
   "source": [
    "# Modeling\n",
    "import pandas as pd\n",
    "import numpy as np\n",
    "import nltk\n",
    "import torch\n",
    "from sklearn.model_selection import train_test_split\n",
    "\n",
    "# NLP-related\n",
    "from string import punctuation\n",
    "from nltk.corpus import stopwords"
   ]
  },
  {
   "cell_type": "code",
   "execution_count": 2,
   "id": "36b1081d",
   "metadata": {},
   "outputs": [],
   "source": [
    "train = pd.read_csv(\"advanced_trainset.csv\")\n",
    "test = pd.read_csv(\"advanced_testset.csv\")"
   ]
  },
  {
   "cell_type": "code",
   "execution_count": 3,
   "id": "3f3c68ce",
   "metadata": {
    "scrolled": true
   },
   "outputs": [
    {
     "data": {
      "text/html": [
       "<div>\n",
       "<style scoped>\n",
       "    .dataframe tbody tr th:only-of-type {\n",
       "        vertical-align: middle;\n",
       "    }\n",
       "\n",
       "    .dataframe tbody tr th {\n",
       "        vertical-align: top;\n",
       "    }\n",
       "\n",
       "    .dataframe thead th {\n",
       "        text-align: right;\n",
       "    }\n",
       "</style>\n",
       "<table border=\"1\" class=\"dataframe\">\n",
       "  <thead>\n",
       "    <tr style=\"text-align: right;\">\n",
       "      <th></th>\n",
       "      <th>Sentence</th>\n",
       "      <th>Sentiment</th>\n",
       "    </tr>\n",
       "  </thead>\n",
       "  <tbody>\n",
       "    <tr>\n",
       "      <th>0</th>\n",
       "      <td>According to the Finnish-Russian Chamber of Co...</td>\n",
       "      <td>neutral</td>\n",
       "    </tr>\n",
       "    <tr>\n",
       "      <th>1</th>\n",
       "      <td>The Swedish buyout firm has sold its remaining...</td>\n",
       "      <td>neutral</td>\n",
       "    </tr>\n",
       "    <tr>\n",
       "      <th>2</th>\n",
       "      <td>$SPY wouldn't be surprised to see a green close</td>\n",
       "      <td>positive</td>\n",
       "    </tr>\n",
       "    <tr>\n",
       "      <th>3</th>\n",
       "      <td>Shell's $70 Billion BG Deal Meets Shareholder ...</td>\n",
       "      <td>negative</td>\n",
       "    </tr>\n",
       "    <tr>\n",
       "      <th>4</th>\n",
       "      <td>SSH COMMUNICATIONS SECURITY CORP STOCK EXCHANG...</td>\n",
       "      <td>negative</td>\n",
       "    </tr>\n",
       "  </tbody>\n",
       "</table>\n",
       "</div>"
      ],
      "text/plain": [
       "                                            Sentence Sentiment\n",
       "0  According to the Finnish-Russian Chamber of Co...   neutral\n",
       "1  The Swedish buyout firm has sold its remaining...   neutral\n",
       "2    $SPY wouldn't be surprised to see a green close  positive\n",
       "3  Shell's $70 Billion BG Deal Meets Shareholder ...  negative\n",
       "4  SSH COMMUNICATIONS SECURITY CORP STOCK EXCHANG...  negative"
      ]
     },
     "execution_count": 3,
     "metadata": {},
     "output_type": "execute_result"
    }
   ],
   "source": [
    "train.head()"
   ]
  },
  {
   "cell_type": "markdown",
   "id": "e63fd3d6",
   "metadata": {},
   "source": [
    "## Data Preprocessing"
   ]
  },
  {
   "cell_type": "code",
   "execution_count": 223,
   "id": "c4315888",
   "metadata": {},
   "outputs": [],
   "source": [
    "# Encoder\n",
    "def label_encode(labels):\n",
    "    arr = []\n",
    "    for label in labels:\n",
    "        if label == 'positive':\n",
    "            arr.append([1, 0, 0])\n",
    "        elif label == 'negative':\n",
    "            arr.append([0, 0, 1])\n",
    "        else:\n",
    "            arr.append([0, 1, 0])\n",
    "    return arr"
   ]
  },
  {
   "cell_type": "code",
   "execution_count": 224,
   "id": "eccc19e0",
   "metadata": {},
   "outputs": [],
   "source": [
    "labels = label_encode(train.Sentiment)"
   ]
  },
  {
   "cell_type": "code",
   "execution_count": 225,
   "id": "bd7d5477",
   "metadata": {
    "scrolled": true
   },
   "outputs": [
    {
     "name": "stderr",
     "output_type": "stream",
     "text": [
      "[nltk_data] Downloading package stopwords to\n",
      "[nltk_data]     C:\\Users\\liuhn\\AppData\\Roaming\\nltk_data...\n",
      "[nltk_data]   Package stopwords is already up-to-date!\n"
     ]
    }
   ],
   "source": [
    "# Vocabulary\n",
    "nltk.download('stopwords')\n",
    "import re\n",
    "stops = set(stopwords.words('english'))\n",
    "# special cases\n",
    "stops.add(\"'s\")\n",
    "stops.add(\"``\")\n",
    "stops.add(\"--\")\n",
    "\n",
    "stops.remove('not')\n",
    "stops.remove('against')\n",
    "from nltk.tokenize import word_tokenize\n",
    "# 去掉stopwords和punctuations\n",
    "def clean_all(lst):\n",
    "    sens = []\n",
    "    for sentence in lst:\n",
    "        cleaned = clean(sentence)\n",
    "        sens.append(cleaned)\n",
    "    return sens\n",
    "\n",
    "def clean(sentence):\n",
    "    # delete stopwords\n",
    "    temp = \" \".join(filter(lambda x: x not in stops, sentence.split()))\n",
    "    # Remove punctuation\n",
    "    temp = temp.translate(str.maketrans('', '', punctuation))\n",
    "    # Delete short words with 3 or less characters\n",
    "    temp = (lambda x: ' '.join([w for w in x.split() if len(w) > 3]))(temp)\n",
    "    # Change all to lower case\n",
    "    temp = temp.lower()\n",
    "    # Delete numbers\n",
    "    temp = re.sub(r'[0-9]', \"\", temp)\n",
    "    # Delete excessive spaces and return\n",
    "    return re.sub(\"  \", \" \", temp)"
   ]
  },
  {
   "cell_type": "code",
   "execution_count": 226,
   "id": "b03a9b6a",
   "metadata": {},
   "outputs": [
    {
     "name": "stderr",
     "output_type": "stream",
     "text": [
      "[nltk_data] Downloading package punkt to\n",
      "[nltk_data]     C:\\Users\\liuhn\\AppData\\Roaming\\nltk_data...\n",
      "[nltk_data]   Package punkt is already up-to-date!\n"
     ]
    }
   ],
   "source": [
    "from collections import defaultdict\n",
    "nltk.download('punkt')\n",
    "def vocab(lst):\n",
    "    cleaned = clean_all(lst)\n",
    "    counter = defaultdict(int)\n",
    "    for sentence in cleaned:\n",
    "        for word in sentence.split():\n",
    "            counter[word] += 1\n",
    "    return dict(sorted(counter.items(), key=lambda item: item[1], reverse=True))"
   ]
  },
  {
   "cell_type": "code",
   "execution_count": 227,
   "id": "bcf6b5c9",
   "metadata": {},
   "outputs": [],
   "source": [
    "vocabulary = vocab(train.Sentence)"
   ]
  },
  {
   "cell_type": "code",
   "execution_count": 228,
   "id": "4fc04993",
   "metadata": {},
   "outputs": [
    {
     "data": {
      "text/plain": [
       "8494"
      ]
     },
     "execution_count": 228,
     "metadata": {},
     "output_type": "execute_result"
    }
   ],
   "source": [
    "len(vocabulary)"
   ]
  },
  {
   "cell_type": "code",
   "execution_count": 229,
   "id": "d673d859",
   "metadata": {},
   "outputs": [],
   "source": [
    "from sklearn.feature_extraction.text import TfidfVectorizer\n",
    "from sklearn.feature_extraction.text import CountVectorizer\n",
    "from nltk.tokenize import RegexpTokenizer\n",
    "token = RegexpTokenizer(r'[a-zA-Z0-9]+')\n",
    "tfidf_vectorizer = TfidfVectorizer(max_features = 20, max_df = 20000, ngram_range = (1, 1), tokenizer = token.tokenize)\n",
    "tfidf = tfidf_vectorizer.fit_transform(train['Sentence'])"
   ]
  },
  {
   "cell_type": "code",
   "execution_count": 230,
   "id": "7b9707bb",
   "metadata": {
    "scrolled": true
   },
   "outputs": [
    {
     "data": {
      "text/plain": [
       "<4382x20 sparse matrix of type '<class 'numpy.float64'>'\n",
       "\twith 18113 stored elements in Compressed Sparse Row format>"
      ]
     },
     "execution_count": 230,
     "metadata": {},
     "output_type": "execute_result"
    }
   ],
   "source": [
    "tfidf"
   ]
  },
  {
   "cell_type": "code",
   "execution_count": 231,
   "id": "337af260",
   "metadata": {},
   "outputs": [],
   "source": [
    "new_lengths = []\n",
    "for s in clean_all(train.Sentence):\n",
    "    new_lengths.append(len(s.split(' ')))"
   ]
  },
  {
   "cell_type": "code",
   "execution_count": 234,
   "id": "957b2909",
   "metadata": {},
   "outputs": [
    {
     "data": {
      "text/plain": [
       "33"
      ]
     },
     "execution_count": 234,
     "metadata": {},
     "output_type": "execute_result"
    }
   ],
   "source": [
    "max(new_lengths)"
   ]
  },
  {
   "cell_type": "markdown",
   "id": "42d3a53c",
   "metadata": {},
   "source": [
    "## Based on the median, we decide the threshold to be 10"
   ]
  },
  {
   "cell_type": "code",
   "execution_count": 235,
   "id": "8e03a17c",
   "metadata": {},
   "outputs": [],
   "source": [
    "# Get features\n",
    "threshold = 33\n",
    "pad = '<pad>'\n",
    "cleaned = clean_all(train.Sentence)\n",
    "features = []\n",
    "for s in cleaned:\n",
    "    lst = s.split()\n",
    "    counts = []\n",
    "    for w in lst:\n",
    "        counts.append((vocabulary[w], w))\n",
    "    counts.sort(reverse=True)\n",
    "    if len(lst) > threshold:\n",
    "        new = [pair[0] for pair in counts[:threshold]]\n",
    "        features.append(new)\n",
    "    else:\n",
    "        features.append((threshold-len(lst))*[0]+[i[0] for i in counts])"
   ]
  },
  {
   "cell_type": "code",
   "execution_count": 236,
   "id": "e7daeb0a",
   "metadata": {},
   "outputs": [],
   "source": [
    "def accuracy(preds, y):\n",
    "    correct = (torch.round(torch.sigmoid(preds)) == y).float() \n",
    "    return correct.sum() / len(correct)"
   ]
  },
  {
   "cell_type": "code",
   "execution_count": 271,
   "id": "95dd40a7",
   "metadata": {},
   "outputs": [],
   "source": [
    "def min_max_normalize(data):\n",
    "    new = []\n",
    "    for i in data:\n",
    "        maxi = max(i) if len(i) != 0 else 0\n",
    "        mini = min(i) if len(i) != 0 else 0\n",
    "        lst = []\n",
    "        for elem in i:\n",
    "            if maxi - mini != 0:\n",
    "                lst.append((elem - mini) / (maxi - mini))\n",
    "            else:\n",
    "                lst.append(0)\n",
    "        new.append(lst)\n",
    "    return new"
   ]
  },
  {
   "cell_type": "code",
   "execution_count": 238,
   "id": "5e7d33ae",
   "metadata": {},
   "outputs": [],
   "source": [
    "from keras.models import Model\n",
    "from keras.preprocessing import sequence\n",
    "from keras.layers import Input\n",
    "from keras.layers import Dense, Activation\n",
    "from keras.layers import Embedding\n",
    "from keras.layers import Conv1D, GlobalMaxPooling1D"
   ]
  },
  {
   "cell_type": "code",
   "execution_count": 295,
   "id": "4ef2f854",
   "metadata": {},
   "outputs": [],
   "source": [
    "# another features\n",
    "idxs = range(1, len(vocabulary)+1)\n",
    "mapping = dict(zip(vocabulary.keys(), idxs))\n",
    "features_new = []\n",
    "for sentence in cleaned:\n",
    "    tmp = []\n",
    "    words = sentence.split()\n",
    "    for w in words:\n",
    "        tmp.append(mapping[w])\n",
    "    features_new.append(tmp)"
   ]
  },
  {
   "cell_type": "code",
   "execution_count": 305,
   "id": "d8e0f490",
   "metadata": {},
   "outputs": [],
   "source": [
    "# Encoder\n",
    "def encode(labels):\n",
    "    arr = []\n",
    "    for label in labels:\n",
    "        if label == 'positive':\n",
    "            arr.append(1)\n",
    "        elif label == 'negative':\n",
    "            arr.append(-1)\n",
    "        else:\n",
    "            arr.append(0)\n",
    "    return arr"
   ]
  },
  {
   "cell_type": "code",
   "execution_count": 312,
   "id": "bf1df7ca",
   "metadata": {},
   "outputs": [
    {
     "name": "stderr",
     "output_type": "stream",
     "text": [
      "C:\\Users\\liuhn\\AppData\\Local\\Temp/ipykernel_49780/1178606672.py:12: VisibleDeprecationWarning: Creating an ndarray from ragged nested sequences (which is a list-or-tuple of lists-or-tuples-or ndarrays with different lengths or shapes) is deprecated. If you meant to do this, you must specify 'dtype=object' when creating the ndarray.\n",
      "  x_train = np.array(x_train)\n",
      "C:\\Users\\liuhn\\AppData\\Local\\Temp/ipykernel_49780/1178606672.py:14: VisibleDeprecationWarning: Creating an ndarray from ragged nested sequences (which is a list-or-tuple of lists-or-tuples-or ndarrays with different lengths or shapes) is deprecated. If you meant to do this, you must specify 'dtype=object' when creating the ndarray.\n",
      "  x_test = np.array(x_test)\n"
     ]
    },
    {
     "name": "stdout",
     "output_type": "stream",
     "text": [
      "Epoch 1/5\n",
      "110/110 [==============================] - 3s 20ms/step - loss: 0.0000e+00 - accuracy: 0.3158 - val_loss: 0.0000e+00 - val_accuracy: 0.3147\n",
      "Epoch 2/5\n",
      "110/110 [==============================] - 2s 18ms/step - loss: 0.0000e+00 - accuracy: 0.3158 - val_loss: 0.0000e+00 - val_accuracy: 0.3147\n",
      "Epoch 3/5\n",
      "110/110 [==============================] - 2s 19ms/step - loss: 0.0000e+00 - accuracy: 0.3158 - val_loss: 0.0000e+00 - val_accuracy: 0.3147\n",
      "Epoch 4/5\n",
      "110/110 [==============================] - 2s 18ms/step - loss: 0.0000e+00 - accuracy: 0.3158 - val_loss: 0.0000e+00 - val_accuracy: 0.3147\n",
      "Epoch 5/5\n",
      "110/110 [==============================] - 2s 18ms/step - loss: 0.0000e+00 - accuracy: 0.3158 - val_loss: 0.0000e+00 - val_accuracy: 0.3147\n",
      "Accuracy: 31.47%\n"
     ]
    }
   ],
   "source": [
    "# set parameters:\n",
    "batch_size = 32\n",
    "embedding_dims = 50\n",
    "filters = 250\n",
    "kernel_size = 5\n",
    "epochs = 5\n",
    "\n",
    "# load the dataset but only keep the top n words, zero the rest\n",
    "# features = min_max_normalize(features)\n",
    "top_words = 500\n",
    "x_train, x_test, y_train, y_test = train_test_split(features_new, encode(train.Sentiment), test_size=0.2)\n",
    "x_train = np.array(x_train)\n",
    "y_train = np.array(y_train)\n",
    "x_test = np.array(x_test)\n",
    "y_test = np.array(y_test)\n",
    "# pad dataset to a maximum review length in words\n",
    "max_words = 33\n",
    "x_train = sequence.pad_sequences(x_train, maxlen=max_words)\n",
    "x_test = sequence.pad_sequences(x_test, maxlen=max_words)\n",
    "\n",
    "# Build baseline model\n",
    "sentence = Input(batch_shape=(None, max_words), dtype='int32', name='sentence')\n",
    "embedding_layer = Embedding(len(vocabulary)+1, embedding_dims, input_length=max_words)\n",
    "sent_embed = embedding_layer(sentence)\n",
    "conv_layer = Conv1D(filters, kernel_size, padding='valid', activation='tanh')\n",
    "sent_conv = conv_layer(sent_embed)\n",
    "sent_pooling = GlobalMaxPooling1D()(sent_conv)\n",
    "sent_repre = Dense(100)(sent_pooling)\n",
    "sent_repre = Activation('relu')(sent_repre)\n",
    "sent_repre = Dense(1)(sent_repre)\n",
    "pred = Activation('softmax')(sent_repre)\n",
    "model = Model(inputs=sentence, outputs=pred)\n",
    "model.compile(loss='CategoricalCrossentropy', optimizer='adam', metrics=['accuracy'])\n",
    "\n",
    "# fit the model\n",
    "history = model.fit(x_train, y_train, batch_size=batch_size,\n",
    "          epochs=epochs, verbose=1,validation_data=(x_test, y_test))\n",
    "scores = model.evaluate(x_test, y_test, verbose=0)\n",
    "print(\"Accuracy: %.2f%%\" % (scores[1]*100))"
   ]
  },
  {
   "cell_type": "code",
   "execution_count": 316,
   "id": "2bfd2163",
   "metadata": {},
   "outputs": [],
   "source": [
    "from keras.models import Sequential\n",
    "from keras import layers\n",
    "from keras import regularizers\n",
    "from keras import backend as K\n",
    "from keras.callbacks import ModelCheckpoint\n",
    "from keras.layers import Dropout"
   ]
  },
  {
   "cell_type": "code",
   "execution_count": 261,
   "id": "458a9509",
   "metadata": {},
   "outputs": [
    {
     "data": {
      "text/plain": [
       "33"
      ]
     },
     "execution_count": 261,
     "metadata": {},
     "output_type": "execute_result"
    }
   ],
   "source": [
    "max([len(i) for i in features_new])"
   ]
  },
  {
   "cell_type": "code",
   "execution_count": 262,
   "id": "760f6874",
   "metadata": {},
   "outputs": [
    {
     "data": {
      "text/plain": [
       "0"
      ]
     },
     "execution_count": 262,
     "metadata": {},
     "output_type": "execute_result"
    }
   ],
   "source": [
    "min([len(i.split()) for i in cleaned])"
   ]
  },
  {
   "cell_type": "code",
   "execution_count": 264,
   "id": "a16062e9",
   "metadata": {},
   "outputs": [
    {
     "data": {
      "text/plain": [
       "8494"
      ]
     },
     "execution_count": 264,
     "metadata": {},
     "output_type": "execute_result"
    }
   ],
   "source": [
    "len(vocabulary)"
   ]
  },
  {
   "cell_type": "code",
   "execution_count": 318,
   "id": "98bad32f",
   "metadata": {},
   "outputs": [
    {
     "name": "stderr",
     "output_type": "stream",
     "text": [
      "C:\\Users\\liuhn\\AppData\\Local\\Temp/ipykernel_49780/2366939475.py:12: VisibleDeprecationWarning: Creating an ndarray from ragged nested sequences (which is a list-or-tuple of lists-or-tuples-or ndarrays with different lengths or shapes) is deprecated. If you meant to do this, you must specify 'dtype=object' when creating the ndarray.\n",
      "  x_train = np.array(x_train)\n",
      "C:\\Users\\liuhn\\AppData\\Local\\Temp/ipykernel_49780/2366939475.py:14: VisibleDeprecationWarning: Creating an ndarray from ragged nested sequences (which is a list-or-tuple of lists-or-tuples-or ndarrays with different lengths or shapes) is deprecated. If you meant to do this, you must specify 'dtype=object' when creating the ndarray.\n",
      "  x_test = np.array(x_test)\n"
     ]
    },
    {
     "name": "stdout",
     "output_type": "stream",
     "text": [
      "Epoch 1/10\n",
      "110/110 [==============================] - 3s 11ms/step - loss: 1.0387 - accuracy: 0.5221 - val_loss: 1.0158 - val_accuracy: 0.5393\n",
      "Epoch 2/10\n",
      "110/110 [==============================] - 1s 8ms/step - loss: 0.9491 - accuracy: 0.5683 - val_loss: 1.0212 - val_accuracy: 0.5302\n",
      "Epoch 3/10\n",
      "110/110 [==============================] - 1s 8ms/step - loss: 0.7439 - accuracy: 0.7170 - val_loss: 1.1037 - val_accuracy: 0.4926\n",
      "Epoch 4/10\n",
      "110/110 [==============================] - 1s 8ms/step - loss: 0.4886 - accuracy: 0.8394 - val_loss: 1.2617 - val_accuracy: 0.4755\n",
      "Epoch 5/10\n",
      "110/110 [==============================] - 1s 8ms/step - loss: 0.3577 - accuracy: 0.8813 - val_loss: 1.3838 - val_accuracy: 0.4652\n",
      "Epoch 6/10\n",
      "110/110 [==============================] - 1s 8ms/step - loss: 0.2924 - accuracy: 0.9016 - val_loss: 1.4403 - val_accuracy: 0.4664\n",
      "Epoch 7/10\n",
      "110/110 [==============================] - 1s 9ms/step - loss: 0.2625 - accuracy: 0.9093 - val_loss: 1.5705 - val_accuracy: 0.4709\n",
      "Epoch 8/10\n",
      "110/110 [==============================] - 1s 9ms/step - loss: 0.2405 - accuracy: 0.9136 - val_loss: 1.5975 - val_accuracy: 0.4766\n",
      "Epoch 9/10\n",
      "110/110 [==============================] - 1s 9ms/step - loss: 0.2278 - accuracy: 0.9158 - val_loss: 1.5942 - val_accuracy: 0.4755\n",
      "Epoch 10/10\n",
      "110/110 [==============================] - 1s 8ms/step - loss: 0.2176 - accuracy: 0.9138 - val_loss: 1.6407 - val_accuracy: 0.4721\n",
      "Accuracy: 47.21%\n"
     ]
    }
   ],
   "source": [
    "# set parameters:\n",
    "batch_size = 32\n",
    "embedding_dims = 5000\n",
    "filters = 250\n",
    "kernel_size = 5\n",
    "epochs = 10\n",
    "\n",
    "# load the dataset but only keep the top n words, zero the rest\n",
    "# features_new = min_max_normalize(features_new)\n",
    "top_words = 500\n",
    "x_train, x_test, y_train, y_test = train_test_split(features_new, label_encode(train.Sentiment), test_size=0.2)\n",
    "x_train = np.array(x_train)\n",
    "y_train = np.array(y_train)\n",
    "x_test = np.array(x_test)\n",
    "y_test = np.array(y_test)\n",
    "# pad dataset to a maximum review length in words\n",
    "max_words = 20\n",
    "x_train = sequence.pad_sequences(x_train, maxlen=max_words)\n",
    "x_test = sequence.pad_sequences(x_test, maxlen=max_words)\n",
    "\n",
    "model = Sequential()\n",
    "model.add(layers.Embedding(len(vocabulary)+1, 15))\n",
    "model.add(layers.SimpleRNN(15,return_sequences=True))\n",
    "model.add(Dropout(0.3))\n",
    "model.add(layers.SimpleRNN(15))\n",
    "model.add(layers.Dense(3,activation='softmax', kernel_regularizer='l2'))\n",
    "\n",
    "# model = Model(inputs=sentence, outputs=pred)\n",
    "model.compile(loss='categorical_crossentropy', optimizer='adam', metrics=['accuracy'])\n",
    "\n",
    "# fit the model\n",
    "history = model.fit(x_train, y_train, batch_size=batch_size,\n",
    "          epochs=epochs, verbose=1,validation_data=(x_test, y_test))\n",
    "scores = model.evaluate(x_test, y_test, verbose=0)\n",
    "print(\"Accuracy: %.2f%%\" % (scores[1]*100))"
   ]
  },
  {
   "cell_type": "code",
   "execution_count": 336,
   "id": "f72a89eb",
   "metadata": {
    "scrolled": true
   },
   "outputs": [
    {
     "data": {
      "image/png": "[encoded data removed]",
      "text/plain": [
       "<Figure size 432x288 with 1 Axes>"
      ]
     },
     "metadata": {
      "needs_background": "light"
     },
     "output_type": "display_data"
    }
   ],
   "source": [
    "import matplotlib.pyplot as plt\n",
    "plt.plot(history.history['loss'])\n",
    "plt.plot(history.history['val_loss'])\n",
    "plt.title('model loss')\n",
    "plt.ylabel('loss')\n",
    "plt.xlabel('epoch')\n",
    "plt.legend(['train', 'validation'], loc='upper left')\n",
    "plt.show()"
   ]
  },
  {
   "cell_type": "code",
   "execution_count": 337,
   "id": "ab483852",
   "metadata": {
    "scrolled": true
   },
   "outputs": [
    {
     "data": {
      "image/png": "[encoded data removed]",
      "text/plain": [
       "<Figure size 432x288 with 1 Axes>"
      ]
     },
     "metadata": {
      "needs_background": "light"
     },
     "output_type": "display_data"
    }
   ],
   "source": [
    "plt.plot(history.history['accuracy'])\n",
    "plt.plot(history.history['val_accuracy'])\n",
    "plt.title('model acc')\n",
    "plt.ylabel('loss')\n",
    "plt.xlabel('epoch')\n",
    "plt.legend(['train', 'validation'], loc='upper left')\n",
    "plt.show()"
   ]
  },
  {
   "cell_type": "code",
   "execution_count": 291,
   "id": "4805c79a",
   "metadata": {},
   "outputs": [],
   "source": [
    "num = 0\n",
    "for i in y_test:\n",
    "    if list(i) == [0, 1, 0]:\n",
    "        num += 1"
   ]
  },
  {
   "cell_type": "code",
   "execution_count": 285,
   "id": "a5321ebe",
   "metadata": {},
   "outputs": [
    {
     "data": {
      "text/plain": [
       "array([[0.33307016, 0.53701854, 0.12991126],\n",
       "       [0.3116378 , 0.575107  , 0.11325519],\n",
       "       [0.358759  , 0.49605244, 0.14518848],\n",
       "       ...,\n",
       "       [0.33202416, 0.53936845, 0.12860735],\n",
       "       [0.31244716, 0.5570241 , 0.13052869],\n",
       "       [0.33842158, 0.4919063 , 0.16967215]], dtype=float32)"
      ]
     },
     "execution_count": 285,
     "metadata": {},
     "output_type": "execute_result"
    }
   ],
   "source": [
    "model.predict(x_test)"
   ]
  },
  {
   "cell_type": "code",
   "execution_count": 360,
   "id": "6102ca7f",
   "metadata": {},
   "outputs": [
    {
     "name": "stderr",
     "output_type": "stream",
     "text": [
      "C:\\Users\\liuhn\\AppData\\Local\\Temp/ipykernel_49780/1813097056.py:12: VisibleDeprecationWarning: Creating an ndarray from ragged nested sequences (which is a list-or-tuple of lists-or-tuples-or ndarrays with different lengths or shapes) is deprecated. If you meant to do this, you must specify 'dtype=object' when creating the ndarray.\n",
      "  x_train = np.array(x_train)\n",
      "C:\\Users\\liuhn\\AppData\\Local\\Temp/ipykernel_49780/1813097056.py:14: VisibleDeprecationWarning: Creating an ndarray from ragged nested sequences (which is a list-or-tuple of lists-or-tuples-or ndarrays with different lengths or shapes) is deprecated. If you meant to do this, you must specify 'dtype=object' when creating the ndarray.\n",
      "  x_test = np.array(x_test)\n"
     ]
    },
    {
     "name": "stdout",
     "output_type": "stream",
     "text": [
      "WARNING:tensorflow:`period` argument is deprecated. Please use `save_freq` to specify the frequency in number of batches seen.\n"
     ]
    },
    {
     "name": "stderr",
     "output_type": "stream",
     "text": [
      "WARNING:tensorflow:`period` argument is deprecated. Please use `save_freq` to specify the frequency in number of batches seen.\n"
     ]
    },
    {
     "name": "stdout",
     "output_type": "stream",
     "text": [
      "Epoch 1/70\n",
      "106/110 [===========================>..] - ETA: 0s - loss: 0.9877 - accuracy: 0.5442\n",
      "Epoch 00001: val_accuracy improved from -inf to 0.50855, saving model to best_model2.hdf5\n",
      "110/110 [==============================] - 5s 23ms/step - loss: 0.9852 - accuracy: 0.5461 - val_loss: 0.9797 - val_accuracy: 0.5086\n",
      "Epoch 2/70\n",
      "107/110 [============================>.] - ETA: 0s - loss: 0.8869 - accuracy: 0.5847\n",
      "Epoch 00002: val_accuracy improved from 0.50855 to 0.59293, saving model to best_model2.hdf5\n",
      "110/110 [==============================] - 1s 12ms/step - loss: 0.8850 - accuracy: 0.5869 - val_loss: 0.8845 - val_accuracy: 0.5929\n",
      "Epoch 3/70\n",
      "106/110 [===========================>..] - ETA: 0s - loss: 0.7733 - accuracy: 0.6683\n",
      "Epoch 00003: val_accuracy improved from 0.59293 to 0.61574, saving model to best_model2.hdf5\n",
      "110/110 [==============================] - 1s 12ms/step - loss: 0.7745 - accuracy: 0.6670 - val_loss: 0.8774 - val_accuracy: 0.6157\n",
      "Epoch 4/70\n",
      "106/110 [===========================>..] - ETA: 0s - loss: 0.6839 - accuracy: 0.7173\n",
      "Epoch 00004: val_accuracy improved from 0.61574 to 0.65222, saving model to best_model2.hdf5\n",
      "110/110 [==============================] - 1s 12ms/step - loss: 0.6856 - accuracy: 0.7153 - val_loss: 0.8260 - val_accuracy: 0.6522\n",
      "Epoch 5/70\n",
      "110/110 [==============================] - ETA: 0s - loss: 0.6135 - accuracy: 0.7429\n",
      "Epoch 00005: val_accuracy improved from 0.65222 to 0.65907, saving model to best_model2.hdf5\n",
      "110/110 [==============================] - 1s 12ms/step - loss: 0.6135 - accuracy: 0.7429 - val_loss: 0.8116 - val_accuracy: 0.6591\n",
      "Epoch 6/70\n",
      "106/110 [===========================>..] - ETA: 0s - loss: 0.5633 - accuracy: 0.7656\n",
      "Epoch 00006: val_accuracy improved from 0.65907 to 0.66705, saving model to best_model2.hdf5\n",
      "110/110 [==============================] - 1s 12ms/step - loss: 0.5628 - accuracy: 0.7660 - val_loss: 0.8057 - val_accuracy: 0.6670\n",
      "Epoch 7/70\n",
      "108/110 [============================>.] - ETA: 0s - loss: 0.5166 - accuracy: 0.7841\n",
      "Epoch 00007: val_accuracy improved from 0.66705 to 0.67389, saving model to best_model2.hdf5\n",
      "110/110 [==============================] - 1s 13ms/step - loss: 0.5160 - accuracy: 0.7837 - val_loss: 0.8309 - val_accuracy: 0.6739\n",
      "Epoch 8/70\n",
      "106/110 [===========================>..] - ETA: 0s - loss: 0.4794 - accuracy: 0.8093\n",
      "Epoch 00008: val_accuracy did not improve from 0.67389\n",
      "110/110 [==============================] - 1s 12ms/step - loss: 0.4768 - accuracy: 0.8103 - val_loss: 0.8474 - val_accuracy: 0.6716\n",
      "Epoch 9/70\n",
      "107/110 [============================>.] - ETA: 0s - loss: 0.4394 - accuracy: 0.8192\n",
      "Epoch 00009: val_accuracy improved from 0.67389 to 0.68073, saving model to best_model2.hdf5\n",
      "110/110 [==============================] - 1s 12ms/step - loss: 0.4404 - accuracy: 0.8183 - val_loss: 0.8504 - val_accuracy: 0.6807\n",
      "Epoch 10/70\n",
      "110/110 [==============================] - ETA: 0s - loss: 0.4006 - accuracy: 0.8468\n",
      "Epoch 00010: val_accuracy did not improve from 0.68073\n",
      "110/110 [==============================] - 1s 12ms/step - loss: 0.4006 - accuracy: 0.8468 - val_loss: 0.8228 - val_accuracy: 0.6762\n",
      "Epoch 11/70\n",
      "108/110 [============================>.] - ETA: 0s - loss: 0.3805 - accuracy: 0.8487\n",
      "Epoch 00011: val_accuracy improved from 0.68073 to 0.68301, saving model to best_model2.hdf5\n",
      "110/110 [==============================] - 1s 11ms/step - loss: 0.3793 - accuracy: 0.8494 - val_loss: 0.8883 - val_accuracy: 0.6830\n",
      "Epoch 12/70\n",
      "109/110 [============================>.] - ETA: 0s - loss: 0.3493 - accuracy: 0.8578\n",
      "Epoch 00012: val_accuracy did not improve from 0.68301\n",
      "110/110 [==============================] - 1s 13ms/step - loss: 0.3496 - accuracy: 0.8573 - val_loss: 0.9103 - val_accuracy: 0.6625\n",
      "Epoch 13/70\n",
      "108/110 [============================>.] - ETA: 0s - loss: 0.3315 - accuracy: 0.8681\n",
      "Epoch 00013: val_accuracy did not improve from 0.68301\n",
      "110/110 [==============================] - 1s 12ms/step - loss: 0.3318 - accuracy: 0.8679 - val_loss: 0.8994 - val_accuracy: 0.6739\n",
      "Epoch 14/70\n",
      "110/110 [==============================] - ETA: 0s - loss: 0.3178 - accuracy: 0.8690\n",
      "Epoch 00014: val_accuracy did not improve from 0.68301\n",
      "110/110 [==============================] - 1s 12ms/step - loss: 0.3178 - accuracy: 0.8690 - val_loss: 0.8615 - val_accuracy: 0.6716\n",
      "Epoch 15/70\n",
      "107/110 [============================>.] - ETA: 0s - loss: 0.2941 - accuracy: 0.8800\n",
      "Epoch 00015: val_accuracy did not improve from 0.68301\n",
      "110/110 [==============================] - 1s 13ms/step - loss: 0.2952 - accuracy: 0.8793 - val_loss: 0.9280 - val_accuracy: 0.6773\n",
      "Epoch 16/70\n",
      "110/110 [==============================] - ETA: 0s - loss: 0.2767 - accuracy: 0.8859\n",
      "Epoch 00016: val_accuracy did not improve from 0.68301\n",
      "110/110 [==============================] - 1s 12ms/step - loss: 0.2767 - accuracy: 0.8859 - val_loss: 0.9254 - val_accuracy: 0.6727\n",
      "Epoch 17/70\n",
      "105/110 [===========================>..] - ETA: 0s - loss: 0.2717 - accuracy: 0.8863\n",
      "Epoch 00017: val_accuracy did not improve from 0.68301\n",
      "110/110 [==============================] - 1s 12ms/step - loss: 0.2729 - accuracy: 0.8853 - val_loss: 0.9013 - val_accuracy: 0.6636\n",
      "Epoch 18/70\n",
      "105/110 [===========================>..] - ETA: 0s - loss: 0.2649 - accuracy: 0.8914\n",
      "Epoch 00018: val_accuracy did not improve from 0.68301\n",
      "110/110 [==============================] - 1s 11ms/step - loss: 0.2667 - accuracy: 0.8904 - val_loss: 1.0222 - val_accuracy: 0.6727\n",
      "Epoch 19/70\n",
      "105/110 [===========================>..] - ETA: 0s - loss: 0.2572 - accuracy: 0.8958\n",
      "Epoch 00019: val_accuracy did not improve from 0.68301\n",
      "110/110 [==============================] - 1s 11ms/step - loss: 0.2563 - accuracy: 0.8956 - val_loss: 1.0452 - val_accuracy: 0.6705\n",
      "Epoch 20/70\n",
      "106/110 [===========================>..] - ETA: 0s - loss: 0.2455 - accuracy: 0.8956\n",
      "Epoch 00020: val_accuracy did not improve from 0.68301\n",
      "110/110 [==============================] - 1s 11ms/step - loss: 0.2448 - accuracy: 0.8967 - val_loss: 0.9932 - val_accuracy: 0.6648\n",
      "Epoch 21/70\n",
      "108/110 [============================>.] - ETA: 0s - loss: 0.2399 - accuracy: 0.8987\n",
      "Epoch 00021: val_accuracy did not improve from 0.68301\n",
      "110/110 [==============================] - 1s 11ms/step - loss: 0.2382 - accuracy: 0.8990 - val_loss: 1.0255 - val_accuracy: 0.6625\n",
      "Epoch 22/70\n",
      "107/110 [============================>.] - ETA: 0s - loss: 0.2279 - accuracy: 0.9036\n",
      "Epoch 00022: val_accuracy did not improve from 0.68301\n",
      "110/110 [==============================] - 1s 12ms/step - loss: 0.2290 - accuracy: 0.9021 - val_loss: 1.0481 - val_accuracy: 0.6568\n",
      "Epoch 23/70\n",
      "109/110 [============================>.] - ETA: 0s - loss: 0.2308 - accuracy: 0.9028\n",
      "Epoch 00023: val_accuracy did not improve from 0.68301\n",
      "110/110 [==============================] - 1s 12ms/step - loss: 0.2315 - accuracy: 0.9024 - val_loss: 1.0538 - val_accuracy: 0.6522\n",
      "Epoch 24/70\n",
      "106/110 [===========================>..] - ETA: 0s - loss: 0.2164 - accuracy: 0.9089\n",
      "Epoch 00024: val_accuracy did not improve from 0.68301\n",
      "110/110 [==============================] - 2s 14ms/step - loss: 0.2157 - accuracy: 0.9084 - val_loss: 1.0825 - val_accuracy: 0.6556\n",
      "Epoch 25/70\n",
      "110/110 [==============================] - ETA: 0s - loss: 0.2224 - accuracy: 0.9007\n",
      "Epoch 00025: val_accuracy did not improve from 0.68301\n",
      "110/110 [==============================] - 1s 13ms/step - loss: 0.2224 - accuracy: 0.9007 - val_loss: 1.0068 - val_accuracy: 0.6602\n",
      "Epoch 26/70\n",
      "106/110 [===========================>..] - ETA: 0s - loss: 0.2136 - accuracy: 0.9062\n",
      "Epoch 00026: val_accuracy did not improve from 0.68301\n",
      "110/110 [==============================] - 1s 12ms/step - loss: 0.2139 - accuracy: 0.9064 - val_loss: 1.0832 - val_accuracy: 0.6408\n",
      "Epoch 27/70\n",
      "108/110 [============================>.] - ETA: 0s - loss: 0.2138 - accuracy: 0.9057\n",
      "Epoch 00027: val_accuracy did not improve from 0.68301\n",
      "110/110 [==============================] - 1s 12ms/step - loss: 0.2138 - accuracy: 0.9061 - val_loss: 1.0389 - val_accuracy: 0.6534\n",
      "Epoch 28/70\n",
      "109/110 [============================>.] - ETA: 0s - loss: 0.2052 - accuracy: 0.9062\n",
      "Epoch 00028: val_accuracy did not improve from 0.68301\n",
      "110/110 [==============================] - 1s 13ms/step - loss: 0.2056 - accuracy: 0.9061 - val_loss: 1.1357 - val_accuracy: 0.6488\n",
      "Epoch 29/70\n",
      "109/110 [============================>.] - ETA: 0s - loss: 0.2038 - accuracy: 0.9083\n",
      "Epoch 00029: val_accuracy did not improve from 0.68301\n",
      "110/110 [==============================] - 2s 14ms/step - loss: 0.2045 - accuracy: 0.9078 - val_loss: 1.0881 - val_accuracy: 0.6545\n",
      "Epoch 30/70\n",
      "106/110 [===========================>..] - ETA: 0s - loss: 0.1932 - accuracy: 0.9116\n",
      "Epoch 00030: val_accuracy did not improve from 0.68301\n",
      "110/110 [==============================] - 1s 12ms/step - loss: 0.1960 - accuracy: 0.9101 - val_loss: 1.0610 - val_accuracy: 0.6511\n",
      "Epoch 31/70\n",
      "109/110 [============================>.] - ETA: 0s - loss: 0.1948 - accuracy: 0.9111\n",
      "Epoch 00031: val_accuracy did not improve from 0.68301\n",
      "110/110 [==============================] - 1s 11ms/step - loss: 0.1949 - accuracy: 0.9110 - val_loss: 1.1122 - val_accuracy: 0.6556\n",
      "Epoch 32/70\n",
      "106/110 [===========================>..] - ETA: 0s - loss: 0.1861 - accuracy: 0.9160\n",
      "Epoch 00032: val_accuracy did not improve from 0.68301\n",
      "110/110 [==============================] - 1s 12ms/step - loss: 0.1906 - accuracy: 0.9147 - val_loss: 1.1688 - val_accuracy: 0.6465\n",
      "Epoch 33/70\n",
      "110/110 [==============================] - ETA: 0s - loss: 0.1869 - accuracy: 0.9161\n",
      "Epoch 00033: val_accuracy did not improve from 0.68301\n",
      "110/110 [==============================] - 1s 14ms/step - loss: 0.1869 - accuracy: 0.9161 - val_loss: 1.2300 - val_accuracy: 0.6511\n",
      "Epoch 34/70\n",
      "107/110 [============================>.] - ETA: 0s - loss: 0.1967 - accuracy: 0.9115\n",
      "Epoch 00034: val_accuracy did not improve from 0.68301\n",
      "110/110 [==============================] - 2s 15ms/step - loss: 0.1958 - accuracy: 0.9121 - val_loss: 1.1564 - val_accuracy: 0.6477\n",
      "Epoch 35/70\n",
      "109/110 [============================>.] - ETA: 0s - loss: 0.1861 - accuracy: 0.9212\n",
      "Epoch 00035: val_accuracy did not improve from 0.68301\n",
      "110/110 [==============================] - 1s 13ms/step - loss: 0.1871 - accuracy: 0.9201 - val_loss: 1.3026 - val_accuracy: 0.6420\n",
      "Epoch 36/70\n",
      "106/110 [===========================>..] - ETA: 0s - loss: 0.1926 - accuracy: 0.9107\n",
      "Epoch 00036: val_accuracy did not improve from 0.68301\n",
      "110/110 [==============================] - 1s 13ms/step - loss: 0.1928 - accuracy: 0.9104 - val_loss: 1.1500 - val_accuracy: 0.6465\n",
      "Epoch 37/70\n",
      "109/110 [============================>.] - ETA: 0s - loss: 0.1859 - accuracy: 0.9137\n",
      "Epoch 00037: val_accuracy did not improve from 0.68301\n",
      "110/110 [==============================] - 1s 12ms/step - loss: 0.1863 - accuracy: 0.9138 - val_loss: 1.2002 - val_accuracy: 0.6499\n",
      "Epoch 38/70\n",
      "108/110 [============================>.] - ETA: 0s - loss: 0.1820 - accuracy: 0.9175\n",
      "Epoch 00038: val_accuracy did not improve from 0.68301\n",
      "110/110 [==============================] - 1s 12ms/step - loss: 0.1829 - accuracy: 0.9170 - val_loss: 1.2338 - val_accuracy: 0.6499\n",
      "Epoch 39/70\n",
      "107/110 [============================>.] - ETA: 0s - loss: 0.1803 - accuracy: 0.9153\n",
      "Epoch 00039: val_accuracy did not improve from 0.68301\n",
      "110/110 [==============================] - 1s 12ms/step - loss: 0.1815 - accuracy: 0.9158 - val_loss: 1.2853 - val_accuracy: 0.6522\n",
      "Epoch 40/70\n",
      "106/110 [===========================>..] - ETA: 0s - loss: 0.1748 - accuracy: 0.9145\n",
      "Epoch 00040: val_accuracy did not improve from 0.68301\n",
      "110/110 [==============================] - 1s 12ms/step - loss: 0.1762 - accuracy: 0.9136 - val_loss: 1.3046 - val_accuracy: 0.6431\n",
      "Epoch 41/70\n",
      "106/110 [===========================>..] - ETA: 0s - loss: 0.1722 - accuracy: 0.9189\n",
      "Epoch 00041: val_accuracy did not improve from 0.68301\n",
      "110/110 [==============================] - 1s 12ms/step - loss: 0.1749 - accuracy: 0.9181 - val_loss: 1.3053 - val_accuracy: 0.6420\n",
      "Epoch 42/70\n",
      "108/110 [============================>.] - ETA: 0s - loss: 0.1743 - accuracy: 0.9178\n",
      "Epoch 00042: val_accuracy did not improve from 0.68301\n",
      "110/110 [==============================] - 1s 12ms/step - loss: 0.1738 - accuracy: 0.9178 - val_loss: 1.3714 - val_accuracy: 0.6591\n",
      "Epoch 43/70\n",
      "105/110 [===========================>..] - ETA: 0s - loss: 0.1707 - accuracy: 0.9196\n",
      "Epoch 00043: val_accuracy did not improve from 0.68301\n",
      "110/110 [==============================] - 1s 12ms/step - loss: 0.1689 - accuracy: 0.9198 - val_loss: 1.4242 - val_accuracy: 0.6477\n",
      "Epoch 44/70\n",
      "108/110 [============================>.] - ETA: 0s - loss: 0.1689 - accuracy: 0.9216\n",
      "Epoch 00044: val_accuracy did not improve from 0.68301\n",
      "110/110 [==============================] - 1s 13ms/step - loss: 0.1694 - accuracy: 0.9210 - val_loss: 1.2863 - val_accuracy: 0.6477\n",
      "Epoch 45/70\n",
      "109/110 [============================>.] - ETA: 0s - loss: 0.1790 - accuracy: 0.9171\n",
      "Epoch 00045: val_accuracy did not improve from 0.68301\n",
      "110/110 [==============================] - 1s 12ms/step - loss: 0.1788 - accuracy: 0.9175 - val_loss: 1.3078 - val_accuracy: 0.6488\n",
      "Epoch 46/70\n",
      "106/110 [===========================>..] - ETA: 0s - loss: 0.1692 - accuracy: 0.9169\n",
      "Epoch 00046: val_accuracy did not improve from 0.68301\n",
      "110/110 [==============================] - 1s 12ms/step - loss: 0.1694 - accuracy: 0.9173 - val_loss: 1.3653 - val_accuracy: 0.6534\n",
      "Epoch 47/70\n",
      "110/110 [==============================] - ETA: 0s - loss: 0.1709 - accuracy: 0.9164\n",
      "Epoch 00047: val_accuracy did not improve from 0.68301\n",
      "110/110 [==============================] - 1s 13ms/step - loss: 0.1709 - accuracy: 0.9164 - val_loss: 1.3882 - val_accuracy: 0.6420\n",
      "Epoch 48/70\n",
      "108/110 [============================>.] - ETA: 0s - loss: 0.1699 - accuracy: 0.9170\n",
      "Epoch 00048: val_accuracy did not improve from 0.68301\n",
      "110/110 [==============================] - 2s 15ms/step - loss: 0.1697 - accuracy: 0.9170 - val_loss: 1.4039 - val_accuracy: 0.6408\n",
      "Epoch 49/70\n",
      "110/110 [==============================] - ETA: 0s - loss: 0.1633 - accuracy: 0.9184\n",
      "Epoch 00049: val_accuracy did not improve from 0.68301\n",
      "110/110 [==============================] - 1s 12ms/step - loss: 0.1633 - accuracy: 0.9184 - val_loss: 1.3733 - val_accuracy: 0.6431\n",
      "Epoch 50/70\n",
      "110/110 [==============================] - ETA: 0s - loss: 0.1710 - accuracy: 0.9184\n",
      "Epoch 00050: val_accuracy did not improve from 0.68301\n",
      "110/110 [==============================] - 1s 12ms/step - loss: 0.1710 - accuracy: 0.9184 - val_loss: 1.3239 - val_accuracy: 0.6351\n",
      "Epoch 51/70\n",
      "106/110 [===========================>..] - ETA: 0s - loss: 0.1681 - accuracy: 0.9175\n",
      "Epoch 00051: val_accuracy did not improve from 0.68301\n",
      "110/110 [==============================] - 1s 13ms/step - loss: 0.1672 - accuracy: 0.9187 - val_loss: 1.4414 - val_accuracy: 0.6477\n",
      "Epoch 52/70\n",
      "110/110 [==============================] - ETA: 0s - loss: 0.1617 - accuracy: 0.9235\n",
      "Epoch 00052: val_accuracy did not improve from 0.68301\n",
      "110/110 [==============================] - 1s 13ms/step - loss: 0.1617 - accuracy: 0.9235 - val_loss: 1.3847 - val_accuracy: 0.6420\n",
      "Epoch 53/70\n",
      "105/110 [===========================>..] - ETA: 0s - loss: 0.1591 - accuracy: 0.9226\n",
      "Epoch 00053: val_accuracy did not improve from 0.68301\n",
      "110/110 [==============================] - 1s 11ms/step - loss: 0.1592 - accuracy: 0.9213 - val_loss: 1.4548 - val_accuracy: 0.6340\n",
      "Epoch 54/70\n",
      "108/110 [============================>.] - ETA: 0s - loss: 0.1618 - accuracy: 0.9175\n",
      "Epoch 00054: val_accuracy did not improve from 0.68301\n",
      "110/110 [==============================] - 1s 12ms/step - loss: 0.1607 - accuracy: 0.9184 - val_loss: 1.3986 - val_accuracy: 0.6351\n",
      "Epoch 55/70\n",
      "110/110 [==============================] - ETA: 0s - loss: 0.1629 - accuracy: 0.9178\n",
      "Epoch 00055: val_accuracy did not improve from 0.68301\n",
      "110/110 [==============================] - 1s 11ms/step - loss: 0.1629 - accuracy: 0.9178 - val_loss: 1.5074 - val_accuracy: 0.6271\n",
      "Epoch 56/70\n",
      "110/110 [==============================] - ETA: 0s - loss: 0.1584 - accuracy: 0.9190\n",
      "Epoch 00056: val_accuracy did not improve from 0.68301\n",
      "110/110 [==============================] - 1s 13ms/step - loss: 0.1584 - accuracy: 0.9190 - val_loss: 1.4794 - val_accuracy: 0.6408\n",
      "Epoch 57/70\n",
      "110/110 [==============================] - ETA: 0s - loss: 0.1565 - accuracy: 0.9255\n",
      "Epoch 00057: val_accuracy did not improve from 0.68301\n",
      "110/110 [==============================] - 1s 13ms/step - loss: 0.1565 - accuracy: 0.9255 - val_loss: 1.4468 - val_accuracy: 0.6477\n",
      "Epoch 58/70\n",
      "109/110 [============================>.] - ETA: 0s - loss: 0.1558 - accuracy: 0.9192\n",
      "Epoch 00058: val_accuracy did not improve from 0.68301\n",
      "110/110 [==============================] - 1s 12ms/step - loss: 0.1553 - accuracy: 0.9195 - val_loss: 1.4788 - val_accuracy: 0.6363\n",
      "Epoch 59/70\n",
      "110/110 [==============================] - ETA: 0s - loss: 0.1566 - accuracy: 0.9227\n",
      "Epoch 00059: val_accuracy did not improve from 0.68301\n",
      "110/110 [==============================] - 1s 11ms/step - loss: 0.1566 - accuracy: 0.9227 - val_loss: 1.4789 - val_accuracy: 0.6374\n",
      "Epoch 60/70\n",
      "109/110 [============================>.] - ETA: 0s - loss: 0.1605 - accuracy: 0.9186\n",
      "Epoch 00060: val_accuracy did not improve from 0.68301\n",
      "110/110 [==============================] - 1s 12ms/step - loss: 0.1608 - accuracy: 0.9184 - val_loss: 1.3925 - val_accuracy: 0.6317\n",
      "Epoch 61/70\n",
      "105/110 [===========================>..] - ETA: 0s - loss: 0.1612 - accuracy: 0.9190\n",
      "Epoch 00061: val_accuracy did not improve from 0.68301\n",
      "110/110 [==============================] - 1s 12ms/step - loss: 0.1604 - accuracy: 0.9193 - val_loss: 1.5245 - val_accuracy: 0.6363\n",
      "Epoch 62/70\n",
      "110/110 [==============================] - ETA: 0s - loss: 0.1583 - accuracy: 0.9198\n",
      "Epoch 00062: val_accuracy did not improve from 0.68301\n",
      "110/110 [==============================] - 1s 12ms/step - loss: 0.1583 - accuracy: 0.9198 - val_loss: 1.4562 - val_accuracy: 0.6363\n",
      "Epoch 63/70\n",
      "107/110 [============================>.] - ETA: 0s - loss: 0.1592 - accuracy: 0.9238\n",
      "Epoch 00063: val_accuracy did not improve from 0.68301\n",
      "110/110 [==============================] - 1s 11ms/step - loss: 0.1580 - accuracy: 0.9247 - val_loss: 1.3796 - val_accuracy: 0.6408\n",
      "Epoch 64/70\n",
      "110/110 [==============================] - ETA: 0s - loss: 0.1520 - accuracy: 0.9190\n",
      "Epoch 00064: val_accuracy did not improve from 0.68301\n",
      "110/110 [==============================] - 1s 11ms/step - loss: 0.1520 - accuracy: 0.9190 - val_loss: 1.4280 - val_accuracy: 0.6374\n",
      "Epoch 65/70\n",
      "105/110 [===========================>..] - ETA: 0s - loss: 0.1540 - accuracy: 0.9214\n",
      "Epoch 00065: val_accuracy did not improve from 0.68301\n",
      "110/110 [==============================] - 1s 12ms/step - loss: 0.1549 - accuracy: 0.9215 - val_loss: 1.5016 - val_accuracy: 0.6363\n",
      "Epoch 66/70\n",
      "107/110 [============================>.] - ETA: 0s - loss: 0.1537 - accuracy: 0.9223\n",
      "Epoch 00066: val_accuracy did not improve from 0.68301\n",
      "110/110 [==============================] - 1s 11ms/step - loss: 0.1528 - accuracy: 0.9233 - val_loss: 1.4860 - val_accuracy: 0.6340\n",
      "Epoch 67/70\n",
      "109/110 [============================>.] - ETA: 0s - loss: 0.1561 - accuracy: 0.9223\n",
      "Epoch 00067: val_accuracy did not improve from 0.68301\n",
      "110/110 [==============================] - 1s 11ms/step - loss: 0.1564 - accuracy: 0.9218 - val_loss: 1.4333 - val_accuracy: 0.6306\n",
      "Epoch 68/70\n",
      "109/110 [============================>.] - ETA: 0s - loss: 0.1591 - accuracy: 0.9197\n",
      "Epoch 00068: val_accuracy did not improve from 0.68301\n",
      "110/110 [==============================] - 1s 11ms/step - loss: 0.1592 - accuracy: 0.9198 - val_loss: 1.5656 - val_accuracy: 0.6271\n",
      "Epoch 69/70\n",
      "107/110 [============================>.] - ETA: 0s - loss: 0.1459 - accuracy: 0.9229\n",
      "Epoch 00069: val_accuracy did not improve from 0.68301\n",
      "110/110 [==============================] - 1s 11ms/step - loss: 0.1472 - accuracy: 0.9221 - val_loss: 1.6218 - val_accuracy: 0.6397\n",
      "Epoch 70/70\n",
      "110/110 [==============================] - ETA: 0s - loss: 0.1512 - accuracy: 0.9241\n",
      "Epoch 00070: val_accuracy did not improve from 0.68301\n",
      "110/110 [==============================] - 1s 11ms/step - loss: 0.1512 - accuracy: 0.9241 - val_loss: 1.4955 - val_accuracy: 0.6306\n",
      "Accuracy: 63.06%\n"
     ]
    }
   ],
   "source": [
    "# set parameters:\n",
    "batch_size = 32\n",
    "embedding_dims = 500\n",
    "filters = 250\n",
    "kernel_size = 5\n",
    "epochs = 70\n",
    "\n",
    "# load the dataset but only keep the top n words, zero the rest\n",
    "# features_new = min_max_normalize(features_new)\n",
    "top_words = 500\n",
    "x_train, x_test, y_train, y_test = train_test_split(features_new, label_encode(train.Sentiment), test_size=0.2)\n",
    "x_train = np.array(x_train)\n",
    "y_train = np.array(y_train)\n",
    "x_test = np.array(x_test)\n",
    "y_test = np.array(y_test)\n",
    "# pad dataset to a maximum review length in words\n",
    "max_words = 20\n",
    "x_train = sequence.pad_sequences(x_train, maxlen=max_words)\n",
    "x_test = sequence.pad_sequences(x_test, maxlen=max_words)\n",
    "\n",
    "model2 = Sequential()\n",
    "model2.add(layers.Embedding(len(vocabulary)+1, 40, input_length=max_words))\n",
    "model2.add(layers.Bidirectional(layers.LSTM(20,dropout=0.7)))\n",
    "model2.add(layers.Dense(3,activation='softmax'))\n",
    "model2.compile(optimizer='rmsprop',loss='categorical_crossentropy', metrics=['accuracy'])\n",
    "checkpoint2 = ModelCheckpoint(\"best_model2.hdf5\", monitor='val_accuracy', verbose=1,save_best_only=True, mode='auto', period=1,save_weights_only=False)\n",
    "# history = model2.fit(x_train, y_train, epochs=10,validation_data=(x_test, y_test),callbacks=[checkpoint2])\n",
    "\n",
    "# model = Model(inputs=sentence, outputs=pred)\n",
    "# model2.compile(loss='categorical_crossentropy', optimizer='SGD', metrics=['accuracy'])\n",
    "\n",
    "# fit the model\n",
    "history = model2.fit(x_train, y_train, batch_size=batch_size,\n",
    "          epochs=epochs, verbose=1,validation_data=(x_test, y_test), callbacks = [checkpoint2])\n",
    "scores = model2.evaluate(x_test, y_test, verbose=0)\n",
    "print(\"Accuracy: %.2f%%\" % (scores[1]*100))"
   ]
  },
  {
   "cell_type": "code",
   "execution_count": 355,
   "id": "83e23d47",
   "metadata": {},
   "outputs": [
    {
     "data": {
      "image/png": "[encoded data removed]",
      "text/plain": [
       "<Figure size 432x288 with 1 Axes>"
      ]
     },
     "metadata": {
      "needs_background": "light"
     },
     "output_type": "display_data"
    }
   ],
   "source": [
    "import matplotlib.pyplot as plt\n",
    "plt.plot(history.history['loss'])\n",
    "plt.plot(history.history['val_loss'])\n",
    "plt.title('model loss')\n",
    "plt.ylabel('loss')\n",
    "plt.xlabel('epoch')\n",
    "plt.legend(['train', 'validation'], loc='upper left')\n",
    "plt.show()"
   ]
  },
  {
   "cell_type": "code",
   "execution_count": 356,
   "id": "68e4fd6d",
   "metadata": {},
   "outputs": [
    {
     "data": {
      "image/png": "[encoded data removed]",
      "text/plain": [
       "<Figure size 432x288 with 1 Axes>"
      ]
     },
     "metadata": {
      "needs_background": "light"
     },
     "output_type": "display_data"
    }
   ],
   "source": [
    "plt.plot(history.history['accuracy'])\n",
    "plt.plot(history.history['val_accuracy'])\n",
    "plt.title('model acc')\n",
    "plt.ylabel('loss')\n",
    "plt.xlabel('epoch')\n",
    "plt.legend(['train', 'validation'], loc='upper left')\n",
    "plt.show()"
   ]
  },
  {
   "cell_type": "code",
   "execution_count": 357,
   "id": "3c9dbb22",
   "metadata": {},
   "outputs": [],
   "source": [
    "preds = model2.predict(x_test)\n",
    "nums = [np.argmax(p) for p in preds]"
   ]
  },
  {
   "cell_type": "code",
   "execution_count": 358,
   "id": "a4e744c8",
   "metadata": {},
   "outputs": [],
   "source": [
    "labels = [np.argmax(k) for k in y_test]"
   ]
  },
  {
   "cell_type": "code",
   "execution_count": 359,
   "id": "b1aadefc",
   "metadata": {},
   "outputs": [
    {
     "data": {
      "text/plain": [
       "0.6282782212086659"
      ]
     },
     "execution_count": 359,
     "metadata": {},
     "output_type": "execute_result"
    }
   ],
   "source": [
    "sum(np.array(nums) == np.array(labels)) / len(nums)"
   ]
  },
  {
   "cell_type": "code",
   "execution_count": 379,
   "id": "c276edb8",
   "metadata": {},
   "outputs": [],
   "source": [
    "def convert_to_sentiment(lst):\n",
    "    output = []\n",
    "    for arr in lst:\n",
    "        i = np.argmax(arr)\n",
    "        if i == 0:\n",
    "            output.append('positive')\n",
    "        elif i == 1:\n",
    "            output.append('negative')\n",
    "        else:\n",
    "            output.append('neutral')\n",
    "    return output"
   ]
  },
  {
   "cell_type": "code",
   "execution_count": 364,
   "id": "e62c184a",
   "metadata": {},
   "outputs": [],
   "source": [
    "# Process test data\n",
    "test = pd.read_csv(\"advanced_testset.csv\")\n",
    "features_test = []\n",
    "for i in clean_all(test.Sentence):\n",
    "    features_test.append(i.strip())"
   ]
  },
  {
   "cell_type": "code",
   "execution_count": 369,
   "id": "d23d1bd9",
   "metadata": {},
   "outputs": [],
   "source": [
    "# another features\n",
    "idxs = range(1, len(vocabulary)+1)\n",
    "mapping = dict(zip(vocabulary.keys(), idxs))\n",
    "features_togo = []\n",
    "for sentence in features_test:\n",
    "    tmp = []\n",
    "    words = sentence.split()\n",
    "    for w in words:\n",
    "        if w in mapping:\n",
    "            tmp.append(mapping[w])\n",
    "        else:\n",
    "            tmp.append(0)\n",
    "    features_togo.append(tmp)"
   ]
  },
  {
   "cell_type": "code",
   "execution_count": 372,
   "id": "0938efa3",
   "metadata": {},
   "outputs": [
    {
     "name": "stderr",
     "output_type": "stream",
     "text": [
      "C:\\Users\\liuhn\\AppData\\Local\\Temp/ipykernel_49780/2490767889.py:1: VisibleDeprecationWarning: Creating an ndarray from ragged nested sequences (which is a list-or-tuple of lists-or-tuples-or ndarrays with different lengths or shapes) is deprecated. If you meant to do this, you must specify 'dtype=object' when creating the ndarray.\n",
      "  x_togo = np.array(features_togo)\n"
     ]
    }
   ],
   "source": [
    "x_togo = np.array(features_togo)"
   ]
  },
  {
   "cell_type": "code",
   "execution_count": 389,
   "id": "32e23d4f",
   "metadata": {},
   "outputs": [],
   "source": [
    "x_togo = sequence.pad_sequences(features_togo, maxlen=max_words)\n",
    "final = convert_to_sentiment(model2.predict(x_togo))\n",
    "df = pd.DataFrame(final, columns = ['Sentiment'])\n",
    "df.to_csv(\"prediction_datahack.csv\", index = False)"
   ]
  }
 ],
 "metadata": {
  "kernelspec": {
   "display_name": "Python 3 (ipykernel)",
   "language": "python",
   "name": "python3"
  },
  "language_info": {
   "codemirror_mode": {
    "name": "ipython",
    "version": 3
   },
   "file_extension": ".py",
   "mimetype": "text/x-python",
   "name": "python",
   "nbconvert_exporter": "python",
   "pygments_lexer": "ipython3",
   "version": "3.9.12"
  },
  "toc": {
   "base_numbering": 1,
   "nav_menu": {},
   "number_sections": true,
   "sideBar": true,
   "skip_h1_title": false,
   "title_cell": "Table of Contents",
   "title_sidebar": "Contents",
   "toc_cell": false,
   "toc_position": {},
   "toc_section_display": true,
   "toc_window_display": false
  }
 },
 "nbformat": 4,
 "nbformat_minor": 5
}
