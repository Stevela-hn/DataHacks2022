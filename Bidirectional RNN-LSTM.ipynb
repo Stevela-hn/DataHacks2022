{
 "cells": [
  {
   "cell_type": "code",
   "execution_count": 1,
   "id": "d6c68eaa",
   "metadata": {},
   "outputs": [],
   "source": [
    "import pandas as pd\n",
    "import numpy as np\n",
    "\n",
    "import re\n",
    "import string\n",
    "from matplotlib import pyplot as plt\n",
    "from sklearn.preprocessing import LabelEncoder\n",
    "import tensorflow as tf\n",
    "from tensorflow.keras import layers\n",
    "from tensorflow.keras import losses\n",
    "from tensorflow.keras.layers.experimental.preprocessing import TextVectorization\n",
    "from tensorflow.keras.layers.experimental.preprocessing import StringLookup"
   ]
  },
  {
   "cell_type": "code",
   "execution_count": 4,
   "id": "d086218e",
   "metadata": {},
   "outputs": [],
   "source": [
    "articles = pd.read_csv(\"advanced_trainset.csv\")"
   ]
  },
  {
   "cell_type": "code",
   "execution_count": 5,
   "id": "c712f5ad",
   "metadata": {},
   "outputs": [
    {
     "data": {
      "text/html": [
       "<div>\n",
       "<style scoped>\n",
       "    .dataframe tbody tr th:only-of-type {\n",
       "        vertical-align: middle;\n",
       "    }\n",
       "\n",
       "    .dataframe tbody tr th {\n",
       "        vertical-align: top;\n",
       "    }\n",
       "\n",
       "    .dataframe thead th {\n",
       "        text-align: right;\n",
       "    }\n",
       "</style>\n",
       "<table border=\"1\" class=\"dataframe\">\n",
       "  <thead>\n",
       "    <tr style=\"text-align: right;\">\n",
       "      <th></th>\n",
       "      <th>Sentence</th>\n",
       "      <th>Sentiment</th>\n",
       "    </tr>\n",
       "  </thead>\n",
       "  <tbody>\n",
       "    <tr>\n",
       "      <th>0</th>\n",
       "      <td>According to the Finnish-Russian Chamber of Co...</td>\n",
       "      <td>neutral</td>\n",
       "    </tr>\n",
       "    <tr>\n",
       "      <th>1</th>\n",
       "      <td>The Swedish buyout firm has sold its remaining...</td>\n",
       "      <td>neutral</td>\n",
       "    </tr>\n",
       "    <tr>\n",
       "      <th>2</th>\n",
       "      <td>$SPY wouldn't be surprised to see a green close</td>\n",
       "      <td>positive</td>\n",
       "    </tr>\n",
       "    <tr>\n",
       "      <th>3</th>\n",
       "      <td>Shell's $70 Billion BG Deal Meets Shareholder ...</td>\n",
       "      <td>negative</td>\n",
       "    </tr>\n",
       "    <tr>\n",
       "      <th>4</th>\n",
       "      <td>SSH COMMUNICATIONS SECURITY CORP STOCK EXCHANG...</td>\n",
       "      <td>negative</td>\n",
       "    </tr>\n",
       "  </tbody>\n",
       "</table>\n",
       "</div>"
      ],
      "text/plain": [
       "                                            Sentence Sentiment\n",
       "0  According to the Finnish-Russian Chamber of Co...   neutral\n",
       "1  The Swedish buyout firm has sold its remaining...   neutral\n",
       "2    $SPY wouldn't be surprised to see a green close  positive\n",
       "3  Shell's $70 Billion BG Deal Meets Shareholder ...  negative\n",
       "4  SSH COMMUNICATIONS SECURITY CORP STOCK EXCHANG...  negative"
      ]
     },
     "execution_count": 5,
     "metadata": {},
     "output_type": "execute_result"
    }
   ],
   "source": [
    "articles.head()"
   ]
  },
  {
   "cell_type": "code",
   "execution_count": 6,
   "id": "ae551fa7",
   "metadata": {},
   "outputs": [
    {
     "name": "stderr",
     "output_type": "stream",
     "text": [
      "[nltk_data] Downloading package stopwords to\n",
      "[nltk_data]     C:\\Users\\wmy\\AppData\\Roaming\\nltk_data...\n",
      "[nltk_data]   Package stopwords is already up-to-date!\n"
     ]
    }
   ],
   "source": [
    "import nltk\n",
    "from nltk.corpus import stopwords\n",
    "from string import punctuation\n",
    "import re\n",
    "nltk.download('stopwords')\n",
    "stops = set(stopwords.words('english'))\n",
    "stops.add(\"'s\")\n",
    "stop.remove(\"not\")\n",
    "\n",
    "def clean(sentence):\n",
    "    # delete stopwords\n",
    "    temp = \" \".join(filter(lambda x: x not in stops, sentence.split()))\n",
    "    # Remove punctuation\n",
    "    temp = temp.translate(str.maketrans('', '', punctuation))\n",
    "    # Delete short words with 3 or less characters\n",
    "    temp = (lambda x: ' '.join([w for w in x.split() if len(w) > 3]))(temp)\n",
    "    # Change all to lower case\n",
    "    temp = temp.lower()\n",
    "    # Delete numbers\n",
    "    temp = re.sub(r'[0-9]', \"\", temp)\n",
    "    # Delete excessive spaces and return\n",
    "    return re.sub(\"  \", \" \", temp)"
   ]
  },
  {
   "cell_type": "code",
   "execution_count": 9,
   "id": "68e8b6fc",
   "metadata": {},
   "outputs": [],
   "source": [
    "articles[\"Sentence\"] = articles[\"Sentence\"].apply(clean)\n",
    "articles_single = articles.copy()"
   ]
  },
  {
   "cell_type": "code",
   "execution_count": 12,
   "id": "8ec254ff",
   "metadata": {},
   "outputs": [],
   "source": [
    "le = LabelEncoder()\n",
    "articles_single[\"Sentiment\"] = le.fit_transform(articles_single[\"Sentiment\"])"
   ]
  },
  {
   "cell_type": "code",
   "execution_count": 13,
   "id": "64be4a1c",
   "metadata": {},
   "outputs": [
    {
     "data": {
      "text/html": [
       "<div>\n",
       "<style scoped>\n",
       "    .dataframe tbody tr th:only-of-type {\n",
       "        vertical-align: middle;\n",
       "    }\n",
       "\n",
       "    .dataframe tbody tr th {\n",
       "        vertical-align: top;\n",
       "    }\n",
       "\n",
       "    .dataframe thead th {\n",
       "        text-align: right;\n",
       "    }\n",
       "</style>\n",
       "<table border=\"1\" class=\"dataframe\">\n",
       "  <thead>\n",
       "    <tr style=\"text-align: right;\">\n",
       "      <th></th>\n",
       "      <th>Sentence</th>\n",
       "      <th>Sentiment</th>\n",
       "    </tr>\n",
       "  </thead>\n",
       "  <tbody>\n",
       "    <tr>\n",
       "      <th>0</th>\n",
       "      <td>according finnishrussian chamber commerce majo...</td>\n",
       "      <td>1</td>\n",
       "    </tr>\n",
       "    <tr>\n",
       "      <th>1</th>\n",
       "      <td>swedish buyout firm sold remaining percent sta...</td>\n",
       "      <td>1</td>\n",
       "    </tr>\n",
       "    <tr>\n",
       "      <th>2</th>\n",
       "      <td>surprised green close</td>\n",
       "      <td>2</td>\n",
       "    </tr>\n",
       "    <tr>\n",
       "      <th>3</th>\n",
       "      <td>shells billion deal meets shareholder skepticism</td>\n",
       "      <td>0</td>\n",
       "    </tr>\n",
       "    <tr>\n",
       "      <th>4</th>\n",
       "      <td>communications security corp stock exchange re...</td>\n",
       "      <td>0</td>\n",
       "    </tr>\n",
       "  </tbody>\n",
       "</table>\n",
       "</div>"
      ],
      "text/plain": [
       "                                            Sentence  Sentiment\n",
       "0  according finnishrussian chamber commerce majo...          1\n",
       "1  swedish buyout firm sold remaining percent sta...          1\n",
       "2                              surprised green close          2\n",
       "3   shells billion deal meets shareholder skepticism          0\n",
       "4  communications security corp stock exchange re...          0"
      ]
     },
     "execution_count": 13,
     "metadata": {},
     "output_type": "execute_result"
    }
   ],
   "source": [
    "articles_single.head()"
   ]
  },
  {
   "cell_type": "code",
   "execution_count": 30,
   "id": "143d4542",
   "metadata": {},
   "outputs": [
    {
     "data": {
      "text/plain": [
       "(array([ 636.,    0.,    0.,    0.,    0., 2363.,    0.,    0.,    0.,\n",
       "        1383.]),\n",
       " array([0. , 0.2, 0.4, 0.6, 0.8, 1. , 1.2, 1.4, 1.6, 1.8, 2. ]),\n",
       " <BarContainer object of 10 artists>)"
      ]
     },
     "execution_count": 30,
     "metadata": {},
     "output_type": "execute_result"
    },
    {
     "data": {
      "image/png": "[encoded data removed]",
      "text/plain": [
       "<Figure size 432x288 with 1 Axes>"
      ]
     },
     "metadata": {
      "needs_background": "light"
     },
     "output_type": "display_data"
    }
   ],
   "source": [
    "plt.hist(articles_single.Sentiment)"
   ]
  },
  {
   "cell_type": "code",
   "execution_count": 18,
   "id": "ecf4618c",
   "metadata": {},
   "outputs": [],
   "source": [
    "data = tf.data.Dataset.from_tensor_slices((articles_single[\"Sentence\"], articles_single[\"Sentiment\"]))\n",
    "data = data.shuffle(buffer_size = len(data))"
   ]
  },
  {
   "cell_type": "code",
   "execution_count": 72,
   "id": "7dbc5745",
   "metadata": {},
   "outputs": [],
   "source": [
    "train_size = int(0.7*len(data))\n",
    "val_size   = int(0.1*len(data))\n",
    "\n",
    "train = data.take(train_size)\n",
    "val   = data.skip(train_size).take(val_size)\n",
    "test  = data.skip(train_size + val_size)"
   ]
  },
  {
   "cell_type": "code",
   "execution_count": 20,
   "id": "7124b05b",
   "metadata": {
    "scrolled": true
   },
   "outputs": [
    {
     "data": {
      "text/plain": [
       "(3067, 438, 877)"
      ]
     },
     "execution_count": 20,
     "metadata": {},
     "output_type": "execute_result"
    }
   ],
   "source": [
    "len(train), len(val), len(test)"
   ]
  },
  {
   "cell_type": "code",
   "execution_count": 21,
   "id": "2d3f6dbf",
   "metadata": {},
   "outputs": [],
   "source": [
    "def standardization(input_data):\n",
    "    lowercase = tf.strings.lower(input_data)\n",
    "    no_punctuation = tf.strings.regex_replace(lowercase,\n",
    "                                  '[%s]' % re.escape(string.punctuation),'')\n",
    "    return no_punctuation "
   ]
  },
  {
   "cell_type": "code",
   "execution_count": 22,
   "id": "7f92fa06",
   "metadata": {},
   "outputs": [],
   "source": [
    "# only the top distinct words will be tracked\n",
    "max_tokens = 2000\n",
    "\n",
    "# each headline will be a vector of length 25\n",
    "sequence_length = 25\n",
    "\n",
    "vectorize_layer = TextVectorization(\n",
    "    standardize=standardization,\n",
    "    max_tokens=max_tokens, # only consider this many words\n",
    "    output_mode='int',\n",
    "    output_sequence_length=sequence_length) "
   ]
  },
  {
   "cell_type": "code",
   "execution_count": 23,
   "id": "1d46de5f",
   "metadata": {},
   "outputs": [],
   "source": [
    "headlines = train.map(lambda x, y: x)\n",
    "vectorize_layer.adapt(headlines)"
   ]
  },
  {
   "cell_type": "code",
   "execution_count": 24,
   "id": "29c80877",
   "metadata": {},
   "outputs": [],
   "source": [
    "def vectorize_headline(text, label):\n",
    "    text = tf.expand_dims(text, -1)\n",
    "    return vectorize_layer(text), [label]\n",
    "\n",
    "train_vec = train.map(vectorize_headline)\n",
    "val_vec = val.map(vectorize_headline)\n",
    "test_vec = test.map(vectorize_headline)"
   ]
  },
  {
   "cell_type": "code",
   "execution_count": 39,
   "id": "0b9e2cdb",
   "metadata": {},
   "outputs": [],
   "source": [
    "model2 = tf.keras.Sequential([\n",
    "    layers.Embedding(max_tokens, output_dim = 64, name=\"embedding\"),\n",
    "    layers.Dropout(0.2),\n",
    "    layers.Bidirectional(layers.LSTM(64, return_sequences=True)),\n",
    "    layers.Bidirectional(layers.LSTM(32)),\n",
    "    layers.Dense(64, activation='relu'),  \n",
    "    layers.Dropout(0.5),\n",
    "    layers.Dense(3)]\n",
    ")"
   ]
  },
  {
   "cell_type": "code",
   "execution_count": 40,
   "id": "071f9530",
   "metadata": {},
   "outputs": [],
   "source": [
    "model2.compile(loss=losses.SparseCategoricalCrossentropy(from_logits=True),\n",
    "               optimizer='adam', \n",
    "               metrics=['accuracy'])"
   ]
  },
  {
   "cell_type": "code",
   "execution_count": 41,
   "id": "596116f5",
   "metadata": {},
   "outputs": [
    {
     "name": "stdout",
     "output_type": "stream",
     "text": [
      "Epoch 1/20\n",
      "3067/3067 [==============================] - 63s 19ms/step - loss: 0.9233 - accuracy: 0.5761 - val_loss: 0.7745 - val_accuracy: 0.6986\n",
      "Epoch 2/20\n",
      "3067/3067 [==============================] - 57s 19ms/step - loss: 0.7321 - accuracy: 0.6889 - val_loss: 0.5919 - val_accuracy: 0.7260\n",
      "Epoch 3/20\n",
      "3067/3067 [==============================] - 57s 19ms/step - loss: 0.5983 - accuracy: 0.7483 - val_loss: 0.5503 - val_accuracy: 0.7740\n",
      "Epoch 4/20\n",
      "3067/3067 [==============================] - 57s 18ms/step - loss: 0.5421 - accuracy: 0.7740 - val_loss: 0.4045 - val_accuracy: 0.8242\n",
      "Epoch 5/20\n",
      "3067/3067 [==============================] - 58s 19ms/step - loss: 0.4498 - accuracy: 0.8037 - val_loss: 0.3814 - val_accuracy: 0.8333\n",
      "Epoch 6/20\n",
      "3067/3067 [==============================] - 54s 18ms/step - loss: 0.3964 - accuracy: 0.8314 - val_loss: 0.3017 - val_accuracy: 0.8767\n",
      "Epoch 7/20\n",
      "3067/3067 [==============================] - 57s 19ms/step - loss: 0.3810 - accuracy: 0.8311 - val_loss: 0.3282 - val_accuracy: 0.8493\n",
      "Epoch 8/20\n",
      "3067/3067 [==============================] - 55s 18ms/step - loss: 0.3589 - accuracy: 0.8363 - val_loss: 0.3207 - val_accuracy: 0.8630\n",
      "Epoch 9/20\n",
      "3067/3067 [==============================] - 56s 18ms/step - loss: 0.3318 - accuracy: 0.8516 - val_loss: 0.2612 - val_accuracy: 0.8744\n",
      "Epoch 10/20\n",
      "3067/3067 [==============================] - 62s 20ms/step - loss: 0.2980 - accuracy: 0.8533 - val_loss: 0.2400 - val_accuracy: 0.8813\n",
      "Epoch 11/20\n",
      "3067/3067 [==============================] - 57s 18ms/step - loss: 0.2943 - accuracy: 0.8653 - val_loss: 0.2380 - val_accuracy: 0.8790\n",
      "Epoch 12/20\n",
      "3067/3067 [==============================] - 56s 18ms/step - loss: 0.2793 - accuracy: 0.8686 - val_loss: 0.1904 - val_accuracy: 0.9018\n",
      "Epoch 13/20\n",
      "3067/3067 [==============================] - 61s 20ms/step - loss: 0.2538 - accuracy: 0.8748 - val_loss: 0.1943 - val_accuracy: 0.8767\n",
      "Epoch 14/20\n",
      "3067/3067 [==============================] - 57s 19ms/step - loss: 0.2302 - accuracy: 0.8754 - val_loss: 0.1648 - val_accuracy: 0.8858\n",
      "Epoch 15/20\n",
      "3067/3067 [==============================] - 66s 21ms/step - loss: 0.2421 - accuracy: 0.8891 - val_loss: 0.1778 - val_accuracy: 0.9064\n",
      "Epoch 16/20\n",
      "3067/3067 [==============================] - 63s 21ms/step - loss: 0.2155 - accuracy: 0.8826 - val_loss: 0.2399 - val_accuracy: 0.8767\n",
      "Epoch 17/20\n",
      "3067/3067 [==============================] - 56s 18ms/step - loss: 0.2064 - accuracy: 0.8898 - val_loss: 0.1708 - val_accuracy: 0.9018\n",
      "Epoch 18/20\n",
      "3067/3067 [==============================] - 60s 20ms/step - loss: 0.2033 - accuracy: 0.8878 - val_loss: 0.1545 - val_accuracy: 0.9132\n",
      "Epoch 19/20\n",
      "3067/3067 [==============================] - 60s 19ms/step - loss: 0.1923 - accuracy: 0.8966 - val_loss: 0.1954 - val_accuracy: 0.8836\n",
      "Epoch 20/20\n",
      "3067/3067 [==============================] - 57s 18ms/step - loss: 0.2093 - accuracy: 0.8931 - val_loss: 0.1410 - val_accuracy: 0.9247\n"
     ]
    }
   ],
   "source": [
    "history2 = model2.fit(train_vec, epochs = 20, validation_data = val_vec)"
   ]
  },
  {
   "cell_type": "code",
   "execution_count": 42,
   "id": "e156cd40",
   "metadata": {},
   "outputs": [
    {
     "data": {
      "text/plain": [
       "<matplotlib.legend.Legend at 0x221d33d4e20>"
      ]
     },
     "execution_count": 42,
     "metadata": {},
     "output_type": "execute_result"
    },
    {
     "data": {
      "image/png": "[encoded data removed]",
      "text/plain": [
       "<Figure size 432x288 with 1 Axes>"
      ]
     },
     "metadata": {
      "needs_background": "light"
     },
     "output_type": "display_data"
    }
   ],
   "source": [
    "from matplotlib import pyplot as plt\n",
    "plt.plot(history2.history[\"accuracy\"], label = \"training\")\n",
    "plt.plot(history2.history[\"val_accuracy\"], label = \"validation\")\n",
    "plt.gca().set(xlabel = \"epoch\", ylabel = \"accuracy\")\n",
    "plt.legend()"
   ]
  },
  {
   "cell_type": "code",
   "execution_count": 43,
   "id": "cf268f3e",
   "metadata": {},
   "outputs": [
    {
     "name": "stdout",
     "output_type": "stream",
     "text": [
      "877/877 [==============================] - 4s 4ms/step - loss: 0.1574 - accuracy: 0.9042\n"
     ]
    },
    {
     "data": {
      "text/plain": [
       "[0.1574002057313919, 0.9042189121246338]"
      ]
     },
     "execution_count": 43,
     "metadata": {},
     "output_type": "execute_result"
    }
   ],
   "source": [
    "model2.evaluate(test_vec)"
   ]
  },
  {
   "cell_type": "markdown",
   "id": "c09645f9",
   "metadata": {},
   "source": [
    "Test on the real testset provided. We are unable to obtain an accuracy on this dataset, but it should be around 0.9 based on validation set and test set extracted from advanced_trainset.csv."
   ]
  },
  {
   "cell_type": "code",
   "execution_count": 80,
   "id": "02c16a5c",
   "metadata": {},
   "outputs": [
    {
     "data": {
      "text/html": [
       "<div>\n",
       "<style scoped>\n",
       "    .dataframe tbody tr th:only-of-type {\n",
       "        vertical-align: middle;\n",
       "    }\n",
       "\n",
       "    .dataframe tbody tr th {\n",
       "        vertical-align: top;\n",
       "    }\n",
       "\n",
       "    .dataframe thead th {\n",
       "        text-align: right;\n",
       "    }\n",
       "</style>\n",
       "<table border=\"1\" class=\"dataframe\">\n",
       "  <thead>\n",
       "    <tr style=\"text-align: right;\">\n",
       "      <th></th>\n",
       "      <th>Sentence</th>\n",
       "    </tr>\n",
       "  </thead>\n",
       "  <tbody>\n",
       "    <tr>\n",
       "      <th>0</th>\n",
       "      <td>Earnings per share ( EPS ) dropped to EUR 0.21...</td>\n",
       "    </tr>\n",
       "    <tr>\n",
       "      <th>1</th>\n",
       "      <td>$SONC Amazing run since middle of March - obvi...</td>\n",
       "    </tr>\n",
       "    <tr>\n",
       "      <th>2</th>\n",
       "      <td>Ruukki Romania , the local arm of Finnish meta...</td>\n",
       "    </tr>\n",
       "    <tr>\n",
       "      <th>3</th>\n",
       "      <td>Self-service and automation are in a bigger ro...</td>\n",
       "    </tr>\n",
       "    <tr>\n",
       "      <th>4</th>\n",
       "      <td>Alma Media 's operating profit amounted to EUR...</td>\n",
       "    </tr>\n",
       "  </tbody>\n",
       "</table>\n",
       "</div>"
      ],
      "text/plain": [
       "                                            Sentence\n",
       "0  Earnings per share ( EPS ) dropped to EUR 0.21...\n",
       "1  $SONC Amazing run since middle of March - obvi...\n",
       "2  Ruukki Romania , the local arm of Finnish meta...\n",
       "3  Self-service and automation are in a bigger ro...\n",
       "4  Alma Media 's operating profit amounted to EUR..."
      ]
     },
     "execution_count": 80,
     "metadata": {},
     "output_type": "execute_result"
    }
   ],
   "source": [
    "test_real = pd.read_csv(\"advanced_testset.csv\")\n",
    "test_real.head()"
   ]
  },
  {
   "cell_type": "code",
   "execution_count": 81,
   "id": "126a2106",
   "metadata": {},
   "outputs": [],
   "source": [
    "def convert_to_sentiment(x):\n",
    "    temp = np.argmax(x)\n",
    "    return \"positive\" if temp == 2 else \"neutral\" if temp == 1 else \"negative\""
   ]
  },
  {
   "cell_type": "code",
   "execution_count": 82,
   "id": "43797f0d",
   "metadata": {},
   "outputs": [],
   "source": [
    "a = model2.predict(vectorize_layer(test_real.Sentence))"
   ]
  },
  {
   "cell_type": "code",
   "execution_count": 83,
   "id": "26eea662",
   "metadata": {},
   "outputs": [
    {
     "data": {
      "text/html": [
       "<div>\n",
       "<style scoped>\n",
       "    .dataframe tbody tr th:only-of-type {\n",
       "        vertical-align: middle;\n",
       "    }\n",
       "\n",
       "    .dataframe tbody tr th {\n",
       "        vertical-align: top;\n",
       "    }\n",
       "\n",
       "    .dataframe thead th {\n",
       "        text-align: right;\n",
       "    }\n",
       "</style>\n",
       "<table border=\"1\" class=\"dataframe\">\n",
       "  <thead>\n",
       "    <tr style=\"text-align: right;\">\n",
       "      <th></th>\n",
       "      <th>Sentence</th>\n",
       "      <th>Sentiment</th>\n",
       "    </tr>\n",
       "  </thead>\n",
       "  <tbody>\n",
       "    <tr>\n",
       "      <th>0</th>\n",
       "      <td>Earnings per share ( EPS ) dropped to EUR 0.21...</td>\n",
       "      <td>neutral</td>\n",
       "    </tr>\n",
       "    <tr>\n",
       "      <th>1</th>\n",
       "      <td>$SONC Amazing run since middle of March - obvi...</td>\n",
       "      <td>neutral</td>\n",
       "    </tr>\n",
       "    <tr>\n",
       "      <th>2</th>\n",
       "      <td>Ruukki Romania , the local arm of Finnish meta...</td>\n",
       "      <td>positive</td>\n",
       "    </tr>\n",
       "    <tr>\n",
       "      <th>3</th>\n",
       "      <td>Self-service and automation are in a bigger ro...</td>\n",
       "      <td>neutral</td>\n",
       "    </tr>\n",
       "    <tr>\n",
       "      <th>4</th>\n",
       "      <td>Alma Media 's operating profit amounted to EUR...</td>\n",
       "      <td>neutral</td>\n",
       "    </tr>\n",
       "    <tr>\n",
       "      <th>...</th>\n",
       "      <td>...</td>\n",
       "      <td>...</td>\n",
       "    </tr>\n",
       "    <tr>\n",
       "      <th>1455</th>\n",
       "      <td>Diluted earnings per share ( EPS ) rose to EUR...</td>\n",
       "      <td>positive</td>\n",
       "    </tr>\n",
       "    <tr>\n",
       "      <th>1456</th>\n",
       "      <td>The company is in the process of building a ne...</td>\n",
       "      <td>positive</td>\n",
       "    </tr>\n",
       "    <tr>\n",
       "      <th>1457</th>\n",
       "      <td>Sales climbed 19.2 pct to 1.002 bln eur , surp...</td>\n",
       "      <td>neutral</td>\n",
       "    </tr>\n",
       "    <tr>\n",
       "      <th>1458</th>\n",
       "      <td>Hammerson, JV Partner secure ownership of Irel...</td>\n",
       "      <td>neutral</td>\n",
       "    </tr>\n",
       "    <tr>\n",
       "      <th>1459</th>\n",
       "      <td>Citigroup , Inc ( NYSE : C ) has announced tha...</td>\n",
       "      <td>positive</td>\n",
       "    </tr>\n",
       "  </tbody>\n",
       "</table>\n",
       "<p>1460 rows × 2 columns</p>\n",
       "</div>"
      ],
      "text/plain": [
       "                                               Sentence Sentiment\n",
       "0     Earnings per share ( EPS ) dropped to EUR 0.21...   neutral\n",
       "1     $SONC Amazing run since middle of March - obvi...   neutral\n",
       "2     Ruukki Romania , the local arm of Finnish meta...  positive\n",
       "3     Self-service and automation are in a bigger ro...   neutral\n",
       "4     Alma Media 's operating profit amounted to EUR...   neutral\n",
       "...                                                 ...       ...\n",
       "1455  Diluted earnings per share ( EPS ) rose to EUR...  positive\n",
       "1456  The company is in the process of building a ne...  positive\n",
       "1457  Sales climbed 19.2 pct to 1.002 bln eur , surp...   neutral\n",
       "1458  Hammerson, JV Partner secure ownership of Irel...   neutral\n",
       "1459  Citigroup , Inc ( NYSE : C ) has announced tha...  positive\n",
       "\n",
       "[1460 rows x 2 columns]"
      ]
     },
     "execution_count": 83,
     "metadata": {},
     "output_type": "execute_result"
    }
   ],
   "source": [
    "test_real[\"Sentiment\"] = list(map(convert_to_sentiment, a))\n",
    "test_real"
   ]
  }
 ],
 "metadata": {
  "kernelspec": {
   "display_name": "Python 3 (ipykernel)",
   "language": "python",
   "name": "python3"
  },
  "language_info": {
   "codemirror_mode": {
    "name": "ipython",
    "version": 3
   },
   "file_extension": ".py",
   "mimetype": "text/x-python",
   "name": "python",
   "nbconvert_exporter": "python",
   "pygments_lexer": "ipython3",
   "version": "3.9.12"
  },
  "toc": {
   "base_numbering": 1,
   "nav_menu": {},
   "number_sections": false,
   "sideBar": true,
   "skip_h1_title": false,
   "title_cell": "Table of Contents",
   "title_sidebar": "Contents",
   "toc_cell": false,
   "toc_position": {},
   "toc_section_display": true,
   "toc_window_display": false
  }
 },
 "nbformat": 4,
 "nbformat_minor": 5
}
